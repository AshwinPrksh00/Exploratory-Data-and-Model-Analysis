{
  "nbformat": 4,
  "nbformat_minor": 0,
  "metadata": {
    "colab": {
      "name": "Exploratory Data Analysis on IPL Data.ipynb",
      "provenance": [],
      "collapsed_sections": []
    },
    "kernelspec": {
      "name": "python3",
      "display_name": "Python 3"
    },
    "language_info": {
      "name": "python"
    }
  },
  "cells": [
    {
      "cell_type": "markdown",
      "metadata": {
        "id": "sChgYDc87_sa"
      },
      "source": [
        "# **EDA and EMA on IPL Data**\n",
        "# -By Ashwin Prakash\n",
        "\n",
        "\n"
      ]
    },
    {
      "cell_type": "code",
      "metadata": {
        "id": "2d7x6yI67xi8"
      },
      "source": [
        "import numpy as np\n",
        "import pandas as pd\n",
        "import matplotlib.pyplot as plt\n"
      ],
      "execution_count": null,
      "outputs": []
    },
    {
      "cell_type": "markdown",
      "metadata": {
        "id": "Vv6QSYPV9Si3"
      },
      "source": [
        "Download the Dataset from the link below "
      ]
    },
    {
      "cell_type": "code",
      "metadata": {
        "id": "jv_iUYOJ8tdm"
      },
      "source": [
        "ipl_data = pd.read_csv(\"https://drive.google.com/u/0/uc?id=1xMIOuGce8zig16sDQcTf7pXkRYfvQyp8&export=download\")"
      ],
      "execution_count": null,
      "outputs": []
    },
    {
      "cell_type": "code",
      "metadata": {
        "colab": {
          "base_uri": "https://localhost:8080/",
          "height": 304
        },
        "id": "NNyr0UWg84dN",
        "outputId": "721b459d-8144-4d5a-b9db-35fcc2e370a6"
      },
      "source": [
        "ipl_data.head()"
      ],
      "execution_count": null,
      "outputs": [
        {
          "output_type": "execute_result",
          "data": {
            "text/html": [
              "<div>\n",
              "<style scoped>\n",
              "    .dataframe tbody tr th:only-of-type {\n",
              "        vertical-align: middle;\n",
              "    }\n",
              "\n",
              "    .dataframe tbody tr th {\n",
              "        vertical-align: top;\n",
              "    }\n",
              "\n",
              "    .dataframe thead th {\n",
              "        text-align: right;\n",
              "    }\n",
              "</style>\n",
              "<table border=\"1\" class=\"dataframe\">\n",
              "  <thead>\n",
              "    <tr style=\"text-align: right;\">\n",
              "      <th></th>\n",
              "      <th>mid</th>\n",
              "      <th>date</th>\n",
              "      <th>venue</th>\n",
              "      <th>bat_team</th>\n",
              "      <th>bowl_team</th>\n",
              "      <th>batsman</th>\n",
              "      <th>bowler</th>\n",
              "      <th>runs</th>\n",
              "      <th>wickets</th>\n",
              "      <th>overs</th>\n",
              "      <th>runs_last_5</th>\n",
              "      <th>wickets_last_5</th>\n",
              "      <th>striker</th>\n",
              "      <th>non-striker</th>\n",
              "      <th>total</th>\n",
              "    </tr>\n",
              "  </thead>\n",
              "  <tbody>\n",
              "    <tr>\n",
              "      <th>0</th>\n",
              "      <td>1</td>\n",
              "      <td>2008-04-18</td>\n",
              "      <td>M Chinnaswamy Stadium</td>\n",
              "      <td>Kolkata Knight Riders</td>\n",
              "      <td>Royal Challengers Bangalore</td>\n",
              "      <td>SC Ganguly</td>\n",
              "      <td>P Kumar</td>\n",
              "      <td>1</td>\n",
              "      <td>0</td>\n",
              "      <td>0.1</td>\n",
              "      <td>1</td>\n",
              "      <td>0</td>\n",
              "      <td>0</td>\n",
              "      <td>0</td>\n",
              "      <td>222</td>\n",
              "    </tr>\n",
              "    <tr>\n",
              "      <th>1</th>\n",
              "      <td>1</td>\n",
              "      <td>2008-04-18</td>\n",
              "      <td>M Chinnaswamy Stadium</td>\n",
              "      <td>Kolkata Knight Riders</td>\n",
              "      <td>Royal Challengers Bangalore</td>\n",
              "      <td>BB McCullum</td>\n",
              "      <td>P Kumar</td>\n",
              "      <td>1</td>\n",
              "      <td>0</td>\n",
              "      <td>0.2</td>\n",
              "      <td>1</td>\n",
              "      <td>0</td>\n",
              "      <td>0</td>\n",
              "      <td>0</td>\n",
              "      <td>222</td>\n",
              "    </tr>\n",
              "    <tr>\n",
              "      <th>2</th>\n",
              "      <td>1</td>\n",
              "      <td>2008-04-18</td>\n",
              "      <td>M Chinnaswamy Stadium</td>\n",
              "      <td>Kolkata Knight Riders</td>\n",
              "      <td>Royal Challengers Bangalore</td>\n",
              "      <td>BB McCullum</td>\n",
              "      <td>P Kumar</td>\n",
              "      <td>2</td>\n",
              "      <td>0</td>\n",
              "      <td>0.2</td>\n",
              "      <td>2</td>\n",
              "      <td>0</td>\n",
              "      <td>0</td>\n",
              "      <td>0</td>\n",
              "      <td>222</td>\n",
              "    </tr>\n",
              "    <tr>\n",
              "      <th>3</th>\n",
              "      <td>1</td>\n",
              "      <td>2008-04-18</td>\n",
              "      <td>M Chinnaswamy Stadium</td>\n",
              "      <td>Kolkata Knight Riders</td>\n",
              "      <td>Royal Challengers Bangalore</td>\n",
              "      <td>BB McCullum</td>\n",
              "      <td>P Kumar</td>\n",
              "      <td>2</td>\n",
              "      <td>0</td>\n",
              "      <td>0.3</td>\n",
              "      <td>2</td>\n",
              "      <td>0</td>\n",
              "      <td>0</td>\n",
              "      <td>0</td>\n",
              "      <td>222</td>\n",
              "    </tr>\n",
              "    <tr>\n",
              "      <th>4</th>\n",
              "      <td>1</td>\n",
              "      <td>2008-04-18</td>\n",
              "      <td>M Chinnaswamy Stadium</td>\n",
              "      <td>Kolkata Knight Riders</td>\n",
              "      <td>Royal Challengers Bangalore</td>\n",
              "      <td>BB McCullum</td>\n",
              "      <td>P Kumar</td>\n",
              "      <td>2</td>\n",
              "      <td>0</td>\n",
              "      <td>0.4</td>\n",
              "      <td>2</td>\n",
              "      <td>0</td>\n",
              "      <td>0</td>\n",
              "      <td>0</td>\n",
              "      <td>222</td>\n",
              "    </tr>\n",
              "  </tbody>\n",
              "</table>\n",
              "</div>"
            ],
            "text/plain": [
              "   mid        date                  venue  ... striker non-striker total\n",
              "0    1  2008-04-18  M Chinnaswamy Stadium  ...       0           0   222\n",
              "1    1  2008-04-18  M Chinnaswamy Stadium  ...       0           0   222\n",
              "2    1  2008-04-18  M Chinnaswamy Stadium  ...       0           0   222\n",
              "3    1  2008-04-18  M Chinnaswamy Stadium  ...       0           0   222\n",
              "4    1  2008-04-18  M Chinnaswamy Stadium  ...       0           0   222\n",
              "\n",
              "[5 rows x 15 columns]"
            ]
          },
          "metadata": {
            "tags": []
          },
          "execution_count": 3
        }
      ]
    },
    {
      "cell_type": "code",
      "metadata": {
        "colab": {
          "base_uri": "https://localhost:8080/"
        },
        "id": "SdeSY5dB9A9a",
        "outputId": "0a70f495-e0c7-45cb-8a45-4513e563504b"
      },
      "source": [
        "ipl_data.info()"
      ],
      "execution_count": null,
      "outputs": [
        {
          "output_type": "stream",
          "text": [
            "<class 'pandas.core.frame.DataFrame'>\n",
            "RangeIndex: 76014 entries, 0 to 76013\n",
            "Data columns (total 15 columns):\n",
            " #   Column          Non-Null Count  Dtype  \n",
            "---  ------          --------------  -----  \n",
            " 0   mid             76014 non-null  int64  \n",
            " 1   date            76014 non-null  object \n",
            " 2   venue           76014 non-null  object \n",
            " 3   bat_team        76014 non-null  object \n",
            " 4   bowl_team       76014 non-null  object \n",
            " 5   batsman         76014 non-null  object \n",
            " 6   bowler          76014 non-null  object \n",
            " 7   runs            76014 non-null  int64  \n",
            " 8   wickets         76014 non-null  int64  \n",
            " 9   overs           76014 non-null  float64\n",
            " 10  runs_last_5     76014 non-null  int64  \n",
            " 11  wickets_last_5  76014 non-null  int64  \n",
            " 12  striker         76014 non-null  int64  \n",
            " 13  non-striker     76014 non-null  int64  \n",
            " 14  total           76014 non-null  int64  \n",
            "dtypes: float64(1), int64(8), object(6)\n",
            "memory usage: 8.7+ MB\n"
          ],
          "name": "stdout"
        }
      ]
    },
    {
      "cell_type": "markdown",
      "metadata": {
        "id": "4sKtz5J6EfHX"
      },
      "source": [
        "##**Data Preprocessing**"
      ]
    },
    {
      "cell_type": "code",
      "metadata": {
        "colab": {
          "base_uri": "https://localhost:8080/"
        },
        "id": "BpogkWbwD-4n",
        "outputId": "3bbb384a-ced5-4c74-ed43-4776c1211cc2"
      },
      "source": [
        "rows = ipl_data.shape[0]\n",
        "columns = ipl_data.shape[1]\n",
        "\n",
        "print(f\"The number of rows in the data is {rows}\")\n",
        "print(f\"The number of columns in the data is {columns}\")"
      ],
      "execution_count": null,
      "outputs": [
        {
          "output_type": "stream",
          "text": [
            "The number of rows in the data is 76014\n",
            "The number of columns in the data is 15\n"
          ],
          "name": "stdout"
        }
      ]
    },
    {
      "cell_type": "code",
      "metadata": {
        "colab": {
          "base_uri": "https://localhost:8080/"
        },
        "id": "gFCb70D8E9T7",
        "outputId": "83a2c0e5-d3e6-4d80-b318-2d38cdac0691"
      },
      "source": [
        "#Checking NULL values\n",
        "ipl_data.isnull().sum()"
      ],
      "execution_count": null,
      "outputs": [
        {
          "output_type": "execute_result",
          "data": {
            "text/plain": [
              "mid               0\n",
              "date              0\n",
              "venue             0\n",
              "bat_team          0\n",
              "bowl_team         0\n",
              "batsman           0\n",
              "bowler            0\n",
              "runs              0\n",
              "wickets           0\n",
              "overs             0\n",
              "runs_last_5       0\n",
              "wickets_last_5    0\n",
              "striker           0\n",
              "non-striker       0\n",
              "total             0\n",
              "dtype: int64"
            ]
          },
          "metadata": {
            "tags": []
          },
          "execution_count": 6
        }
      ]
    },
    {
      "cell_type": "code",
      "metadata": {
        "id": "YZ1CHv_CFHEQ"
      },
      "source": [
        "#Dropping unnecessary columns\n",
        "column_drop_list = ['mid','striker','non-striker']\n",
        "ipl_data.drop(column_drop_list, axis=1, inplace=True)\n"
      ],
      "execution_count": null,
      "outputs": []
    },
    {
      "cell_type": "code",
      "metadata": {
        "colab": {
          "base_uri": "https://localhost:8080/",
          "height": 203
        },
        "id": "WPEYeLo_Oeo8",
        "outputId": "9f9576fb-43ea-421d-cfbd-7428612a4b53"
      },
      "source": [
        "ipl_data.head()"
      ],
      "execution_count": null,
      "outputs": [
        {
          "output_type": "execute_result",
          "data": {
            "text/html": [
              "<div>\n",
              "<style scoped>\n",
              "    .dataframe tbody tr th:only-of-type {\n",
              "        vertical-align: middle;\n",
              "    }\n",
              "\n",
              "    .dataframe tbody tr th {\n",
              "        vertical-align: top;\n",
              "    }\n",
              "\n",
              "    .dataframe thead th {\n",
              "        text-align: right;\n",
              "    }\n",
              "</style>\n",
              "<table border=\"1\" class=\"dataframe\">\n",
              "  <thead>\n",
              "    <tr style=\"text-align: right;\">\n",
              "      <th></th>\n",
              "      <th>date</th>\n",
              "      <th>venue</th>\n",
              "      <th>bat_team</th>\n",
              "      <th>bowl_team</th>\n",
              "      <th>batsman</th>\n",
              "      <th>bowler</th>\n",
              "      <th>runs</th>\n",
              "      <th>wickets</th>\n",
              "      <th>overs</th>\n",
              "      <th>runs_last_5</th>\n",
              "      <th>wickets_last_5</th>\n",
              "      <th>total</th>\n",
              "    </tr>\n",
              "  </thead>\n",
              "  <tbody>\n",
              "    <tr>\n",
              "      <th>0</th>\n",
              "      <td>2008-04-18</td>\n",
              "      <td>M Chinnaswamy Stadium</td>\n",
              "      <td>Kolkata Knight Riders</td>\n",
              "      <td>Royal Challengers Bangalore</td>\n",
              "      <td>SC Ganguly</td>\n",
              "      <td>P Kumar</td>\n",
              "      <td>1</td>\n",
              "      <td>0</td>\n",
              "      <td>0.1</td>\n",
              "      <td>1</td>\n",
              "      <td>0</td>\n",
              "      <td>222</td>\n",
              "    </tr>\n",
              "    <tr>\n",
              "      <th>1</th>\n",
              "      <td>2008-04-18</td>\n",
              "      <td>M Chinnaswamy Stadium</td>\n",
              "      <td>Kolkata Knight Riders</td>\n",
              "      <td>Royal Challengers Bangalore</td>\n",
              "      <td>BB McCullum</td>\n",
              "      <td>P Kumar</td>\n",
              "      <td>1</td>\n",
              "      <td>0</td>\n",
              "      <td>0.2</td>\n",
              "      <td>1</td>\n",
              "      <td>0</td>\n",
              "      <td>222</td>\n",
              "    </tr>\n",
              "    <tr>\n",
              "      <th>2</th>\n",
              "      <td>2008-04-18</td>\n",
              "      <td>M Chinnaswamy Stadium</td>\n",
              "      <td>Kolkata Knight Riders</td>\n",
              "      <td>Royal Challengers Bangalore</td>\n",
              "      <td>BB McCullum</td>\n",
              "      <td>P Kumar</td>\n",
              "      <td>2</td>\n",
              "      <td>0</td>\n",
              "      <td>0.2</td>\n",
              "      <td>2</td>\n",
              "      <td>0</td>\n",
              "      <td>222</td>\n",
              "    </tr>\n",
              "    <tr>\n",
              "      <th>3</th>\n",
              "      <td>2008-04-18</td>\n",
              "      <td>M Chinnaswamy Stadium</td>\n",
              "      <td>Kolkata Knight Riders</td>\n",
              "      <td>Royal Challengers Bangalore</td>\n",
              "      <td>BB McCullum</td>\n",
              "      <td>P Kumar</td>\n",
              "      <td>2</td>\n",
              "      <td>0</td>\n",
              "      <td>0.3</td>\n",
              "      <td>2</td>\n",
              "      <td>0</td>\n",
              "      <td>222</td>\n",
              "    </tr>\n",
              "    <tr>\n",
              "      <th>4</th>\n",
              "      <td>2008-04-18</td>\n",
              "      <td>M Chinnaswamy Stadium</td>\n",
              "      <td>Kolkata Knight Riders</td>\n",
              "      <td>Royal Challengers Bangalore</td>\n",
              "      <td>BB McCullum</td>\n",
              "      <td>P Kumar</td>\n",
              "      <td>2</td>\n",
              "      <td>0</td>\n",
              "      <td>0.4</td>\n",
              "      <td>2</td>\n",
              "      <td>0</td>\n",
              "      <td>222</td>\n",
              "    </tr>\n",
              "  </tbody>\n",
              "</table>\n",
              "</div>"
            ],
            "text/plain": [
              "         date                  venue  ... wickets_last_5 total\n",
              "0  2008-04-18  M Chinnaswamy Stadium  ...              0   222\n",
              "1  2008-04-18  M Chinnaswamy Stadium  ...              0   222\n",
              "2  2008-04-18  M Chinnaswamy Stadium  ...              0   222\n",
              "3  2008-04-18  M Chinnaswamy Stadium  ...              0   222\n",
              "4  2008-04-18  M Chinnaswamy Stadium  ...              0   222\n",
              "\n",
              "[5 rows x 12 columns]"
            ]
          },
          "metadata": {
            "tags": []
          },
          "execution_count": 8
        }
      ]
    },
    {
      "cell_type": "code",
      "metadata": {
        "colab": {
          "base_uri": "https://localhost:8080/"
        },
        "id": "iETe-qRCOg4I",
        "outputId": "16b2fbe0-4d69-4ae8-db55-e6dc2c3d9bde"
      },
      "source": [
        "#Displaying the teams present in the dataset\n",
        "print(np.unique(ipl_data['bat_team']))"
      ],
      "execution_count": null,
      "outputs": [
        {
          "output_type": "stream",
          "text": [
            "['Chennai Super Kings' 'Deccan Chargers' 'Delhi Daredevils'\n",
            " 'Gujarat Lions' 'Kings XI Punjab' 'Kochi Tuskers Kerala'\n",
            " 'Kolkata Knight Riders' 'Mumbai Indians' 'Pune Warriors'\n",
            " 'Rajasthan Royals' 'Rising Pune Supergiant' 'Rising Pune Supergiants'\n",
            " 'Royal Challengers Bangalore' 'Sunrisers Hyderabad']\n"
          ],
          "name": "stdout"
        }
      ]
    },
    {
      "cell_type": "code",
      "metadata": {
        "id": "dFt6zpc0O4dy"
      },
      "source": [
        "#Removing teams which are not playing right now\n",
        "old_teams = ['Deccan Chargers', 'Kochi Tuskers Kerala', 'Pune Warriors', 'Gujarat Lions', 'Rising Pune Supergiant', 'Rising Pune Supergiants']\n",
        "current_teams = [teams for teams in ipl_data['bat_team'] if teams not in old_teams]\n",
        "\n",
        "#Changing the dataframe to the changes\n",
        "ipl_data = ipl_data[ipl_data['bat_team'].isin(current_teams) & ipl_data['bowl_team'].isin(current_teams)]"
      ],
      "execution_count": null,
      "outputs": []
    },
    {
      "cell_type": "code",
      "metadata": {
        "colab": {
          "base_uri": "https://localhost:8080/"
        },
        "id": "0Bv99w6zSAx7",
        "outputId": "f411d35f-9c29-4424-ec99-9cc98d2e3e35"
      },
      "source": [
        "np.unique(ipl_data['bat_team'])"
      ],
      "execution_count": null,
      "outputs": [
        {
          "output_type": "execute_result",
          "data": {
            "text/plain": [
              "array(['Chennai Super Kings', 'Delhi Daredevils', 'Kings XI Punjab',\n",
              "       'Kolkata Knight Riders', 'Mumbai Indians', 'Rajasthan Royals',\n",
              "       'Royal Challengers Bangalore', 'Sunrisers Hyderabad'], dtype=object)"
            ]
          },
          "metadata": {
            "tags": []
          },
          "execution_count": 11
        }
      ]
    },
    {
      "cell_type": "code",
      "metadata": {
        "colab": {
          "base_uri": "https://localhost:8080/",
          "height": 348
        },
        "id": "Qzdr8AeZSB69",
        "outputId": "fcf2f003-6372-4e0f-94ae-ec1921774119"
      },
      "source": [
        "#checking correletion between the features\n",
        "ipl_data.corr(method='pearson')\n",
        "\n",
        "#plot a heatmap using seaborn to display correlation\n",
        "import seaborn as sns\n",
        "sns.heatmap(ipl_data.corr())"
      ],
      "execution_count": null,
      "outputs": [
        {
          "output_type": "execute_result",
          "data": {
            "text/plain": [
              "<matplotlib.axes._subplots.AxesSubplot at 0x7f816f56acd0>"
            ]
          },
          "metadata": {
            "tags": []
          },
          "execution_count": 12
        },
        {
          "output_type": "display_data",
          "data": {
            "image/png": "[encoded data removed]",
            "text/plain": [
              "<Figure size 432x288 with 2 Axes>"
            ]
          },
          "metadata": {
            "tags": [],
            "needs_background": "light"
          }
        }
      ]
    },
    {
      "cell_type": "code",
      "metadata": {
        "colab": {
          "base_uri": "https://localhost:8080/"
        },
        "id": "qbTSR-IcThJ6",
        "outputId": "660c608f-972c-412c-a89f-c5945dbbde47"
      },
      "source": [
        "#encode the categorical columns\n",
        "cat_columns = ['venue',\t'bat_team','bowl_team','batsman' ,'bowler']\n",
        "\n",
        "#checking unique values in categorical columns\n",
        "for cat in cat_columns:\n",
        "  print(f'Number of unique values in {cat} = {np.unique(ipl_data[cat]).shape[0]}')"
      ],
      "execution_count": null,
      "outputs": [
        {
          "output_type": "stream",
          "text": [
            "Number of unique values in venue = 31\n",
            "Number of unique values in bat_team = 8\n",
            "Number of unique values in bowl_team = 8\n",
            "Number of unique values in batsman = 349\n",
            "Number of unique values in bowler = 275\n"
          ],
          "name": "stdout"
        }
      ]
    },
    {
      "cell_type": "code",
      "metadata": {
        "id": "82Lcp2VGVy48"
      },
      "source": [
        "#Since batsman and bowler features have high cardinality, we will use label encoder for these\n",
        "from sklearn.preprocessing import LabelEncoder\n",
        "\n",
        "le_columns = ['batsman', 'bowler', 'venue']\n",
        "le = LabelEncoder()\n",
        "\n",
        "for col in le_columns:\n",
        "  ipl_data[col] = le.fit_transform(ipl_data[col]) #label encoding"
      ],
      "execution_count": null,
      "outputs": []
    },
    {
      "cell_type": "code",
      "metadata": {
        "colab": {
          "base_uri": "https://localhost:8080/",
          "height": 973
        },
        "id": "zkVhnRGTI5YX",
        "outputId": "4f599f48-1253-4a5e-e591-6365d3f99204"
      },
      "source": [
        "ipl_data.head(30)"
      ],
      "execution_count": null,
      "outputs": [
        {
          "output_type": "execute_result",
          "data": {
            "text/html": [
              "<div>\n",
              "<style scoped>\n",
              "    .dataframe tbody tr th:only-of-type {\n",
              "        vertical-align: middle;\n",
              "    }\n",
              "\n",
              "    .dataframe tbody tr th {\n",
              "        vertical-align: top;\n",
              "    }\n",
              "\n",
              "    .dataframe thead th {\n",
              "        text-align: right;\n",
              "    }\n",
              "</style>\n",
              "<table border=\"1\" class=\"dataframe\">\n",
              "  <thead>\n",
              "    <tr style=\"text-align: right;\">\n",
              "      <th></th>\n",
              "      <th>date</th>\n",
              "      <th>venue</th>\n",
              "      <th>bat_team</th>\n",
              "      <th>bowl_team</th>\n",
              "      <th>batsman</th>\n",
              "      <th>bowler</th>\n",
              "      <th>runs</th>\n",
              "      <th>wickets</th>\n",
              "      <th>overs</th>\n",
              "      <th>runs_last_5</th>\n",
              "      <th>wickets_last_5</th>\n",
              "      <th>total</th>\n",
              "    </tr>\n",
              "  </thead>\n",
              "  <tbody>\n",
              "    <tr>\n",
              "      <th>0</th>\n",
              "      <td>2008-04-18</td>\n",
              "      <td>13</td>\n",
              "      <td>Kolkata Knight Riders</td>\n",
              "      <td>Royal Challengers Bangalore</td>\n",
              "      <td>276</td>\n",
              "      <td>168</td>\n",
              "      <td>1</td>\n",
              "      <td>0</td>\n",
              "      <td>0.1</td>\n",
              "      <td>1</td>\n",
              "      <td>0</td>\n",
              "      <td>222</td>\n",
              "    </tr>\n",
              "    <tr>\n",
              "      <th>1</th>\n",
              "      <td>2008-04-18</td>\n",
              "      <td>13</td>\n",
              "      <td>Kolkata Knight Riders</td>\n",
              "      <td>Royal Challengers Bangalore</td>\n",
              "      <td>49</td>\n",
              "      <td>168</td>\n",
              "      <td>1</td>\n",
              "      <td>0</td>\n",
              "      <td>0.2</td>\n",
              "      <td>1</td>\n",
              "      <td>0</td>\n",
              "      <td>222</td>\n",
              "    </tr>\n",
              "    <tr>\n",
              "      <th>2</th>\n",
              "      <td>2008-04-18</td>\n",
              "      <td>13</td>\n",
              "      <td>Kolkata Knight Riders</td>\n",
              "      <td>Royal Challengers Bangalore</td>\n",
              "      <td>49</td>\n",
              "      <td>168</td>\n",
              "      <td>2</td>\n",
              "      <td>0</td>\n",
              "      <td>0.2</td>\n",
              "      <td>2</td>\n",
              "      <td>0</td>\n",
              "      <td>222</td>\n",
              "    </tr>\n",
              "    <tr>\n",
              "      <th>3</th>\n",
              "      <td>2008-04-18</td>\n",
              "      <td>13</td>\n",
              "      <td>Kolkata Knight Riders</td>\n",
              "      <td>Royal Challengers Bangalore</td>\n",
              "      <td>49</td>\n",
              "      <td>168</td>\n",
              "      <td>2</td>\n",
              "      <td>0</td>\n",
              "      <td>0.3</td>\n",
              "      <td>2</td>\n",
              "      <td>0</td>\n",
              "      <td>222</td>\n",
              "    </tr>\n",
              "    <tr>\n",
              "      <th>4</th>\n",
              "      <td>2008-04-18</td>\n",
              "      <td>13</td>\n",
              "      <td>Kolkata Knight Riders</td>\n",
              "      <td>Royal Challengers Bangalore</td>\n",
              "      <td>49</td>\n",
              "      <td>168</td>\n",
              "      <td>2</td>\n",
              "      <td>0</td>\n",
              "      <td>0.4</td>\n",
              "      <td>2</td>\n",
              "      <td>0</td>\n",
              "      <td>222</td>\n",
              "    </tr>\n",
              "    <tr>\n",
              "      <th>5</th>\n",
              "      <td>2008-04-18</td>\n",
              "      <td>13</td>\n",
              "      <td>Kolkata Knight Riders</td>\n",
              "      <td>Royal Challengers Bangalore</td>\n",
              "      <td>49</td>\n",
              "      <td>168</td>\n",
              "      <td>2</td>\n",
              "      <td>0</td>\n",
              "      <td>0.5</td>\n",
              "      <td>2</td>\n",
              "      <td>0</td>\n",
              "      <td>222</td>\n",
              "    </tr>\n",
              "    <tr>\n",
              "      <th>6</th>\n",
              "      <td>2008-04-18</td>\n",
              "      <td>13</td>\n",
              "      <td>Kolkata Knight Riders</td>\n",
              "      <td>Royal Challengers Bangalore</td>\n",
              "      <td>49</td>\n",
              "      <td>168</td>\n",
              "      <td>3</td>\n",
              "      <td>0</td>\n",
              "      <td>0.6</td>\n",
              "      <td>3</td>\n",
              "      <td>0</td>\n",
              "      <td>222</td>\n",
              "    </tr>\n",
              "    <tr>\n",
              "      <th>7</th>\n",
              "      <td>2008-04-18</td>\n",
              "      <td>13</td>\n",
              "      <td>Kolkata Knight Riders</td>\n",
              "      <td>Royal Challengers Bangalore</td>\n",
              "      <td>49</td>\n",
              "      <td>274</td>\n",
              "      <td>3</td>\n",
              "      <td>0</td>\n",
              "      <td>1.1</td>\n",
              "      <td>3</td>\n",
              "      <td>0</td>\n",
              "      <td>222</td>\n",
              "    </tr>\n",
              "    <tr>\n",
              "      <th>8</th>\n",
              "      <td>2008-04-18</td>\n",
              "      <td>13</td>\n",
              "      <td>Kolkata Knight Riders</td>\n",
              "      <td>Royal Challengers Bangalore</td>\n",
              "      <td>49</td>\n",
              "      <td>274</td>\n",
              "      <td>7</td>\n",
              "      <td>0</td>\n",
              "      <td>1.2</td>\n",
              "      <td>7</td>\n",
              "      <td>0</td>\n",
              "      <td>222</td>\n",
              "    </tr>\n",
              "    <tr>\n",
              "      <th>9</th>\n",
              "      <td>2008-04-18</td>\n",
              "      <td>13</td>\n",
              "      <td>Kolkata Knight Riders</td>\n",
              "      <td>Royal Challengers Bangalore</td>\n",
              "      <td>49</td>\n",
              "      <td>274</td>\n",
              "      <td>11</td>\n",
              "      <td>0</td>\n",
              "      <td>1.3</td>\n",
              "      <td>11</td>\n",
              "      <td>0</td>\n",
              "      <td>222</td>\n",
              "    </tr>\n",
              "    <tr>\n",
              "      <th>10</th>\n",
              "      <td>2008-04-18</td>\n",
              "      <td>13</td>\n",
              "      <td>Kolkata Knight Riders</td>\n",
              "      <td>Royal Challengers Bangalore</td>\n",
              "      <td>49</td>\n",
              "      <td>274</td>\n",
              "      <td>17</td>\n",
              "      <td>0</td>\n",
              "      <td>1.4</td>\n",
              "      <td>17</td>\n",
              "      <td>0</td>\n",
              "      <td>222</td>\n",
              "    </tr>\n",
              "    <tr>\n",
              "      <th>11</th>\n",
              "      <td>2008-04-18</td>\n",
              "      <td>13</td>\n",
              "      <td>Kolkata Knight Riders</td>\n",
              "      <td>Royal Challengers Bangalore</td>\n",
              "      <td>49</td>\n",
              "      <td>274</td>\n",
              "      <td>21</td>\n",
              "      <td>0</td>\n",
              "      <td>1.5</td>\n",
              "      <td>21</td>\n",
              "      <td>0</td>\n",
              "      <td>222</td>\n",
              "    </tr>\n",
              "    <tr>\n",
              "      <th>12</th>\n",
              "      <td>2008-04-18</td>\n",
              "      <td>13</td>\n",
              "      <td>Kolkata Knight Riders</td>\n",
              "      <td>Royal Challengers Bangalore</td>\n",
              "      <td>49</td>\n",
              "      <td>274</td>\n",
              "      <td>21</td>\n",
              "      <td>0</td>\n",
              "      <td>1.6</td>\n",
              "      <td>21</td>\n",
              "      <td>0</td>\n",
              "      <td>222</td>\n",
              "    </tr>\n",
              "    <tr>\n",
              "      <th>13</th>\n",
              "      <td>2008-04-18</td>\n",
              "      <td>13</td>\n",
              "      <td>Kolkata Knight Riders</td>\n",
              "      <td>Royal Challengers Bangalore</td>\n",
              "      <td>276</td>\n",
              "      <td>168</td>\n",
              "      <td>21</td>\n",
              "      <td>0</td>\n",
              "      <td>2.1</td>\n",
              "      <td>21</td>\n",
              "      <td>0</td>\n",
              "      <td>222</td>\n",
              "    </tr>\n",
              "    <tr>\n",
              "      <th>14</th>\n",
              "      <td>2008-04-18</td>\n",
              "      <td>13</td>\n",
              "      <td>Kolkata Knight Riders</td>\n",
              "      <td>Royal Challengers Bangalore</td>\n",
              "      <td>276</td>\n",
              "      <td>168</td>\n",
              "      <td>21</td>\n",
              "      <td>0</td>\n",
              "      <td>2.2</td>\n",
              "      <td>21</td>\n",
              "      <td>0</td>\n",
              "      <td>222</td>\n",
              "    </tr>\n",
              "    <tr>\n",
              "      <th>15</th>\n",
              "      <td>2008-04-18</td>\n",
              "      <td>13</td>\n",
              "      <td>Kolkata Knight Riders</td>\n",
              "      <td>Royal Challengers Bangalore</td>\n",
              "      <td>276</td>\n",
              "      <td>168</td>\n",
              "      <td>22</td>\n",
              "      <td>0</td>\n",
              "      <td>2.3</td>\n",
              "      <td>22</td>\n",
              "      <td>0</td>\n",
              "      <td>222</td>\n",
              "    </tr>\n",
              "    <tr>\n",
              "      <th>16</th>\n",
              "      <td>2008-04-18</td>\n",
              "      <td>13</td>\n",
              "      <td>Kolkata Knight Riders</td>\n",
              "      <td>Royal Challengers Bangalore</td>\n",
              "      <td>49</td>\n",
              "      <td>168</td>\n",
              "      <td>26</td>\n",
              "      <td>0</td>\n",
              "      <td>2.4</td>\n",
              "      <td>26</td>\n",
              "      <td>0</td>\n",
              "      <td>222</td>\n",
              "    </tr>\n",
              "    <tr>\n",
              "      <th>17</th>\n",
              "      <td>2008-04-18</td>\n",
              "      <td>13</td>\n",
              "      <td>Kolkata Knight Riders</td>\n",
              "      <td>Royal Challengers Bangalore</td>\n",
              "      <td>49</td>\n",
              "      <td>168</td>\n",
              "      <td>27</td>\n",
              "      <td>0</td>\n",
              "      <td>2.5</td>\n",
              "      <td>27</td>\n",
              "      <td>0</td>\n",
              "      <td>222</td>\n",
              "    </tr>\n",
              "    <tr>\n",
              "      <th>18</th>\n",
              "      <td>2008-04-18</td>\n",
              "      <td>13</td>\n",
              "      <td>Kolkata Knight Riders</td>\n",
              "      <td>Royal Challengers Bangalore</td>\n",
              "      <td>276</td>\n",
              "      <td>168</td>\n",
              "      <td>27</td>\n",
              "      <td>0</td>\n",
              "      <td>2.6</td>\n",
              "      <td>27</td>\n",
              "      <td>0</td>\n",
              "      <td>222</td>\n",
              "    </tr>\n",
              "    <tr>\n",
              "      <th>19</th>\n",
              "      <td>2008-04-18</td>\n",
              "      <td>13</td>\n",
              "      <td>Kolkata Knight Riders</td>\n",
              "      <td>Royal Challengers Bangalore</td>\n",
              "      <td>49</td>\n",
              "      <td>13</td>\n",
              "      <td>32</td>\n",
              "      <td>0</td>\n",
              "      <td>3.0</td>\n",
              "      <td>32</td>\n",
              "      <td>0</td>\n",
              "      <td>222</td>\n",
              "    </tr>\n",
              "    <tr>\n",
              "      <th>20</th>\n",
              "      <td>2008-04-18</td>\n",
              "      <td>13</td>\n",
              "      <td>Kolkata Knight Riders</td>\n",
              "      <td>Royal Challengers Bangalore</td>\n",
              "      <td>49</td>\n",
              "      <td>13</td>\n",
              "      <td>38</td>\n",
              "      <td>0</td>\n",
              "      <td>3.1</td>\n",
              "      <td>38</td>\n",
              "      <td>0</td>\n",
              "      <td>222</td>\n",
              "    </tr>\n",
              "    <tr>\n",
              "      <th>21</th>\n",
              "      <td>2008-04-18</td>\n",
              "      <td>13</td>\n",
              "      <td>Kolkata Knight Riders</td>\n",
              "      <td>Royal Challengers Bangalore</td>\n",
              "      <td>49</td>\n",
              "      <td>13</td>\n",
              "      <td>39</td>\n",
              "      <td>0</td>\n",
              "      <td>3.2</td>\n",
              "      <td>39</td>\n",
              "      <td>0</td>\n",
              "      <td>222</td>\n",
              "    </tr>\n",
              "    <tr>\n",
              "      <th>22</th>\n",
              "      <td>2008-04-18</td>\n",
              "      <td>13</td>\n",
              "      <td>Kolkata Knight Riders</td>\n",
              "      <td>Royal Challengers Bangalore</td>\n",
              "      <td>276</td>\n",
              "      <td>13</td>\n",
              "      <td>43</td>\n",
              "      <td>0</td>\n",
              "      <td>3.3</td>\n",
              "      <td>43</td>\n",
              "      <td>0</td>\n",
              "      <td>222</td>\n",
              "    </tr>\n",
              "    <tr>\n",
              "      <th>23</th>\n",
              "      <td>2008-04-18</td>\n",
              "      <td>13</td>\n",
              "      <td>Kolkata Knight Riders</td>\n",
              "      <td>Royal Challengers Bangalore</td>\n",
              "      <td>276</td>\n",
              "      <td>13</td>\n",
              "      <td>43</td>\n",
              "      <td>0</td>\n",
              "      <td>3.4</td>\n",
              "      <td>43</td>\n",
              "      <td>0</td>\n",
              "      <td>222</td>\n",
              "    </tr>\n",
              "    <tr>\n",
              "      <th>24</th>\n",
              "      <td>2008-04-18</td>\n",
              "      <td>13</td>\n",
              "      <td>Kolkata Knight Riders</td>\n",
              "      <td>Royal Challengers Bangalore</td>\n",
              "      <td>276</td>\n",
              "      <td>13</td>\n",
              "      <td>44</td>\n",
              "      <td>0</td>\n",
              "      <td>3.5</td>\n",
              "      <td>44</td>\n",
              "      <td>0</td>\n",
              "      <td>222</td>\n",
              "    </tr>\n",
              "    <tr>\n",
              "      <th>25</th>\n",
              "      <td>2008-04-18</td>\n",
              "      <td>13</td>\n",
              "      <td>Kolkata Knight Riders</td>\n",
              "      <td>Royal Challengers Bangalore</td>\n",
              "      <td>49</td>\n",
              "      <td>13</td>\n",
              "      <td>50</td>\n",
              "      <td>0</td>\n",
              "      <td>3.6</td>\n",
              "      <td>50</td>\n",
              "      <td>0</td>\n",
              "      <td>222</td>\n",
              "    </tr>\n",
              "    <tr>\n",
              "      <th>26</th>\n",
              "      <td>2008-04-18</td>\n",
              "      <td>13</td>\n",
              "      <td>Kolkata Knight Riders</td>\n",
              "      <td>Royal Challengers Bangalore</td>\n",
              "      <td>276</td>\n",
              "      <td>168</td>\n",
              "      <td>54</td>\n",
              "      <td>0</td>\n",
              "      <td>4.1</td>\n",
              "      <td>54</td>\n",
              "      <td>0</td>\n",
              "      <td>222</td>\n",
              "    </tr>\n",
              "    <tr>\n",
              "      <th>27</th>\n",
              "      <td>2008-04-18</td>\n",
              "      <td>13</td>\n",
              "      <td>Kolkata Knight Riders</td>\n",
              "      <td>Royal Challengers Bangalore</td>\n",
              "      <td>276</td>\n",
              "      <td>168</td>\n",
              "      <td>55</td>\n",
              "      <td>0</td>\n",
              "      <td>4.2</td>\n",
              "      <td>55</td>\n",
              "      <td>0</td>\n",
              "      <td>222</td>\n",
              "    </tr>\n",
              "    <tr>\n",
              "      <th>28</th>\n",
              "      <td>2008-04-18</td>\n",
              "      <td>13</td>\n",
              "      <td>Kolkata Knight Riders</td>\n",
              "      <td>Royal Challengers Bangalore</td>\n",
              "      <td>49</td>\n",
              "      <td>168</td>\n",
              "      <td>59</td>\n",
              "      <td>0</td>\n",
              "      <td>4.3</td>\n",
              "      <td>59</td>\n",
              "      <td>0</td>\n",
              "      <td>222</td>\n",
              "    </tr>\n",
              "    <tr>\n",
              "      <th>29</th>\n",
              "      <td>2008-04-18</td>\n",
              "      <td>13</td>\n",
              "      <td>Kolkata Knight Riders</td>\n",
              "      <td>Royal Challengers Bangalore</td>\n",
              "      <td>49</td>\n",
              "      <td>168</td>\n",
              "      <td>59</td>\n",
              "      <td>0</td>\n",
              "      <td>4.4</td>\n",
              "      <td>59</td>\n",
              "      <td>0</td>\n",
              "      <td>222</td>\n",
              "    </tr>\n",
              "  </tbody>\n",
              "</table>\n",
              "</div>"
            ],
            "text/plain": [
              "          date  venue  ... wickets_last_5 total\n",
              "0   2008-04-18     13  ...              0   222\n",
              "1   2008-04-18     13  ...              0   222\n",
              "2   2008-04-18     13  ...              0   222\n",
              "3   2008-04-18     13  ...              0   222\n",
              "4   2008-04-18     13  ...              0   222\n",
              "5   2008-04-18     13  ...              0   222\n",
              "6   2008-04-18     13  ...              0   222\n",
              "7   2008-04-18     13  ...              0   222\n",
              "8   2008-04-18     13  ...              0   222\n",
              "9   2008-04-18     13  ...              0   222\n",
              "10  2008-04-18     13  ...              0   222\n",
              "11  2008-04-18     13  ...              0   222\n",
              "12  2008-04-18     13  ...              0   222\n",
              "13  2008-04-18     13  ...              0   222\n",
              "14  2008-04-18     13  ...              0   222\n",
              "15  2008-04-18     13  ...              0   222\n",
              "16  2008-04-18     13  ...              0   222\n",
              "17  2008-04-18     13  ...              0   222\n",
              "18  2008-04-18     13  ...              0   222\n",
              "19  2008-04-18     13  ...              0   222\n",
              "20  2008-04-18     13  ...              0   222\n",
              "21  2008-04-18     13  ...              0   222\n",
              "22  2008-04-18     13  ...              0   222\n",
              "23  2008-04-18     13  ...              0   222\n",
              "24  2008-04-18     13  ...              0   222\n",
              "25  2008-04-18     13  ...              0   222\n",
              "26  2008-04-18     13  ...              0   222\n",
              "27  2008-04-18     13  ...              0   222\n",
              "28  2008-04-18     13  ...              0   222\n",
              "29  2008-04-18     13  ...              0   222\n",
              "\n",
              "[30 rows x 12 columns]"
            ]
          },
          "metadata": {
            "tags": []
          },
          "execution_count": 15
        }
      ]
    },
    {
      "cell_type": "code",
      "metadata": {
        "id": "owXGWZd1JG4A"
      },
      "source": [
        "#The rest of columns do not have high cardinality so we use one hot encoder\n",
        "ohe_columns = ['bat_team', 'bowl_team']\n",
        "\n",
        "#one hot encoding using pd.get_dummies and concat to original dataframe\n",
        "ipl_data = pd.concat((ipl_data, pd.get_dummies(ipl_data[ohe_columns])), axis=1)"
      ],
      "execution_count": null,
      "outputs": []
    },
    {
      "cell_type": "code",
      "metadata": {
        "id": "o3RuFfkdLp8I"
      },
      "source": [
        "#Dropping the original columns of bat_team and bowl_team\n",
        "ipl_data.drop(ohe_columns, axis=1, inplace=True)\n",
        "\n",
        "#Converting the date column to datetime object\n",
        "ipl_data['date'] = pd.to_datetime(ipl_data['date'])"
      ],
      "execution_count": null,
      "outputs": []
    },
    {
      "cell_type": "code",
      "metadata": {
        "colab": {
          "base_uri": "https://localhost:8080/"
        },
        "id": "PqJD2cYlLrZf",
        "outputId": "eadc2b6c-dfe9-4a21-9cdd-f925b7ce8127"
      },
      "source": [
        "#splitting the data to train and test\n",
        "train_set = ipl_data[ipl_data['date'].dt.year <= 2015]\n",
        "test_set = ipl_data[ipl_data['date'].dt.year > 2015]\n",
        "\n",
        "print(f'Shape of training set = {train_set.shape[0]}')\n",
        "print(f'Shape of testing set = {test_set.shape[0]}')\n"
      ],
      "execution_count": null,
      "outputs": [
        {
          "output_type": "stream",
          "text": [
            "Shape of training set = 46267\n",
            "Shape of testing set = 7544\n"
          ],
          "name": "stdout"
        }
      ]
    },
    {
      "cell_type": "code",
      "metadata": {
        "colab": {
          "base_uri": "https://localhost:8080/"
        },
        "id": "S-U6-PJGNNMp",
        "outputId": "6814265c-fe2d-455c-9988-9bcc4501b825"
      },
      "source": [
        "#Dropping the date column\n",
        "train_set.drop(['date'], axis = 1, inplace=True)\n",
        "test_set.drop(['date'], axis= 1, inplace=True)"
      ],
      "execution_count": null,
      "outputs": [
        {
          "output_type": "stream",
          "text": [
            "/usr/local/lib/python3.7/dist-packages/pandas/core/frame.py:4174: SettingWithCopyWarning: \n",
            "A value is trying to be set on a copy of a slice from a DataFrame\n",
            "\n",
            "See the caveats in the documentation: https://pandas.pydata.org/pandas-docs/stable/user_guide/indexing.html#returning-a-view-versus-a-copy\n",
            "  errors=errors,\n"
          ],
          "name": "stderr"
        }
      ]
    },
    {
      "cell_type": "code",
      "metadata": {
        "colab": {
          "base_uri": "https://localhost:8080/"
        },
        "id": "wyYBM4CoQAVn",
        "outputId": "ab774784-17e5-4041-a2b8-e12d6e523efe"
      },
      "source": [
        "#Performing Standardisation on test and train\n",
        "from sklearn.preprocessing import StandardScaler\n",
        "\n",
        "#Fit the standard scaler for train set\n",
        "for col in train_set.columns:\n",
        "  if col != 'total':\n",
        "    ss = StandardScaler()\n",
        "    train_set[col] = ss.fit_transform(train_set[col].values.reshape((-1,1)))\n",
        "\n",
        "#Fit the standard scaler for test set\n",
        "for col in test_set.columns:\n",
        "  if col != 'total':\n",
        "    ss = StandardScaler()\n",
        "    test_set[col] = ss.fit_transform(test_set[col].values.reshape((-1,1)))\n"
      ],
      "execution_count": null,
      "outputs": [
        {
          "output_type": "stream",
          "text": [
            "/usr/local/lib/python3.7/dist-packages/ipykernel_launcher.py:8: SettingWithCopyWarning: \n",
            "A value is trying to be set on a copy of a slice from a DataFrame.\n",
            "Try using .loc[row_indexer,col_indexer] = value instead\n",
            "\n",
            "See the caveats in the documentation: https://pandas.pydata.org/pandas-docs/stable/user_guide/indexing.html#returning-a-view-versus-a-copy\n",
            "  \n",
            "/usr/local/lib/python3.7/dist-packages/ipykernel_launcher.py:8: SettingWithCopyWarning: \n",
            "A value is trying to be set on a copy of a slice from a DataFrame.\n",
            "Try using .loc[row_indexer,col_indexer] = value instead\n",
            "\n",
            "See the caveats in the documentation: https://pandas.pydata.org/pandas-docs/stable/user_guide/indexing.html#returning-a-view-versus-a-copy\n",
            "  \n",
            "/usr/local/lib/python3.7/dist-packages/ipykernel_launcher.py:8: SettingWithCopyWarning: \n",
            "A value is trying to be set on a copy of a slice from a DataFrame.\n",
            "Try using .loc[row_indexer,col_indexer] = value instead\n",
            "\n",
            "See the caveats in the documentation: https://pandas.pydata.org/pandas-docs/stable/user_guide/indexing.html#returning-a-view-versus-a-copy\n",
            "  \n",
            "/usr/local/lib/python3.7/dist-packages/ipykernel_launcher.py:8: SettingWithCopyWarning: \n",
            "A value is trying to be set on a copy of a slice from a DataFrame.\n",
            "Try using .loc[row_indexer,col_indexer] = value instead\n",
            "\n",
            "See the caveats in the documentation: https://pandas.pydata.org/pandas-docs/stable/user_guide/indexing.html#returning-a-view-versus-a-copy\n",
            "  \n",
            "/usr/local/lib/python3.7/dist-packages/ipykernel_launcher.py:8: SettingWithCopyWarning: \n",
            "A value is trying to be set on a copy of a slice from a DataFrame.\n",
            "Try using .loc[row_indexer,col_indexer] = value instead\n",
            "\n",
            "See the caveats in the documentation: https://pandas.pydata.org/pandas-docs/stable/user_guide/indexing.html#returning-a-view-versus-a-copy\n",
            "  \n",
            "/usr/local/lib/python3.7/dist-packages/ipykernel_launcher.py:8: SettingWithCopyWarning: \n",
            "A value is trying to be set on a copy of a slice from a DataFrame.\n",
            "Try using .loc[row_indexer,col_indexer] = value instead\n",
            "\n",
            "See the caveats in the documentation: https://pandas.pydata.org/pandas-docs/stable/user_guide/indexing.html#returning-a-view-versus-a-copy\n",
            "  \n",
            "/usr/local/lib/python3.7/dist-packages/ipykernel_launcher.py:8: SettingWithCopyWarning: \n",
            "A value is trying to be set on a copy of a slice from a DataFrame.\n",
            "Try using .loc[row_indexer,col_indexer] = value instead\n",
            "\n",
            "See the caveats in the documentation: https://pandas.pydata.org/pandas-docs/stable/user_guide/indexing.html#returning-a-view-versus-a-copy\n",
            "  \n",
            "/usr/local/lib/python3.7/dist-packages/ipykernel_launcher.py:8: SettingWithCopyWarning: \n",
            "A value is trying to be set on a copy of a slice from a DataFrame.\n",
            "Try using .loc[row_indexer,col_indexer] = value instead\n",
            "\n",
            "See the caveats in the documentation: https://pandas.pydata.org/pandas-docs/stable/user_guide/indexing.html#returning-a-view-versus-a-copy\n",
            "  \n",
            "/usr/local/lib/python3.7/dist-packages/ipykernel_launcher.py:8: SettingWithCopyWarning: \n",
            "A value is trying to be set on a copy of a slice from a DataFrame.\n",
            "Try using .loc[row_indexer,col_indexer] = value instead\n",
            "\n",
            "See the caveats in the documentation: https://pandas.pydata.org/pandas-docs/stable/user_guide/indexing.html#returning-a-view-versus-a-copy\n",
            "  \n",
            "/usr/local/lib/python3.7/dist-packages/ipykernel_launcher.py:8: SettingWithCopyWarning: \n",
            "A value is trying to be set on a copy of a slice from a DataFrame.\n",
            "Try using .loc[row_indexer,col_indexer] = value instead\n",
            "\n",
            "See the caveats in the documentation: https://pandas.pydata.org/pandas-docs/stable/user_guide/indexing.html#returning-a-view-versus-a-copy\n",
            "  \n",
            "/usr/local/lib/python3.7/dist-packages/ipykernel_launcher.py:8: SettingWithCopyWarning: \n",
            "A value is trying to be set on a copy of a slice from a DataFrame.\n",
            "Try using .loc[row_indexer,col_indexer] = value instead\n",
            "\n",
            "See the caveats in the documentation: https://pandas.pydata.org/pandas-docs/stable/user_guide/indexing.html#returning-a-view-versus-a-copy\n",
            "  \n",
            "/usr/local/lib/python3.7/dist-packages/ipykernel_launcher.py:8: SettingWithCopyWarning: \n",
            "A value is trying to be set on a copy of a slice from a DataFrame.\n",
            "Try using .loc[row_indexer,col_indexer] = value instead\n",
            "\n",
            "See the caveats in the documentation: https://pandas.pydata.org/pandas-docs/stable/user_guide/indexing.html#returning-a-view-versus-a-copy\n",
            "  \n",
            "/usr/local/lib/python3.7/dist-packages/ipykernel_launcher.py:8: SettingWithCopyWarning: \n",
            "A value is trying to be set on a copy of a slice from a DataFrame.\n",
            "Try using .loc[row_indexer,col_indexer] = value instead\n",
            "\n",
            "See the caveats in the documentation: https://pandas.pydata.org/pandas-docs/stable/user_guide/indexing.html#returning-a-view-versus-a-copy\n",
            "  \n",
            "/usr/local/lib/python3.7/dist-packages/ipykernel_launcher.py:8: SettingWithCopyWarning: \n",
            "A value is trying to be set on a copy of a slice from a DataFrame.\n",
            "Try using .loc[row_indexer,col_indexer] = value instead\n",
            "\n",
            "See the caveats in the documentation: https://pandas.pydata.org/pandas-docs/stable/user_guide/indexing.html#returning-a-view-versus-a-copy\n",
            "  \n",
            "/usr/local/lib/python3.7/dist-packages/ipykernel_launcher.py:8: SettingWithCopyWarning: \n",
            "A value is trying to be set on a copy of a slice from a DataFrame.\n",
            "Try using .loc[row_indexer,col_indexer] = value instead\n",
            "\n",
            "See the caveats in the documentation: https://pandas.pydata.org/pandas-docs/stable/user_guide/indexing.html#returning-a-view-versus-a-copy\n",
            "  \n",
            "/usr/local/lib/python3.7/dist-packages/ipykernel_launcher.py:8: SettingWithCopyWarning: \n",
            "A value is trying to be set on a copy of a slice from a DataFrame.\n",
            "Try using .loc[row_indexer,col_indexer] = value instead\n",
            "\n",
            "See the caveats in the documentation: https://pandas.pydata.org/pandas-docs/stable/user_guide/indexing.html#returning-a-view-versus-a-copy\n",
            "  \n",
            "/usr/local/lib/python3.7/dist-packages/ipykernel_launcher.py:8: SettingWithCopyWarning: \n",
            "A value is trying to be set on a copy of a slice from a DataFrame.\n",
            "Try using .loc[row_indexer,col_indexer] = value instead\n",
            "\n",
            "See the caveats in the documentation: https://pandas.pydata.org/pandas-docs/stable/user_guide/indexing.html#returning-a-view-versus-a-copy\n",
            "  \n",
            "/usr/local/lib/python3.7/dist-packages/ipykernel_launcher.py:8: SettingWithCopyWarning: \n",
            "A value is trying to be set on a copy of a slice from a DataFrame.\n",
            "Try using .loc[row_indexer,col_indexer] = value instead\n",
            "\n",
            "See the caveats in the documentation: https://pandas.pydata.org/pandas-docs/stable/user_guide/indexing.html#returning-a-view-versus-a-copy\n",
            "  \n",
            "/usr/local/lib/python3.7/dist-packages/ipykernel_launcher.py:8: SettingWithCopyWarning: \n",
            "A value is trying to be set on a copy of a slice from a DataFrame.\n",
            "Try using .loc[row_indexer,col_indexer] = value instead\n",
            "\n",
            "See the caveats in the documentation: https://pandas.pydata.org/pandas-docs/stable/user_guide/indexing.html#returning-a-view-versus-a-copy\n",
            "  \n",
            "/usr/local/lib/python3.7/dist-packages/ipykernel_launcher.py:8: SettingWithCopyWarning: \n",
            "A value is trying to be set on a copy of a slice from a DataFrame.\n",
            "Try using .loc[row_indexer,col_indexer] = value instead\n",
            "\n",
            "See the caveats in the documentation: https://pandas.pydata.org/pandas-docs/stable/user_guide/indexing.html#returning-a-view-versus-a-copy\n",
            "  \n",
            "/usr/local/lib/python3.7/dist-packages/ipykernel_launcher.py:8: SettingWithCopyWarning: \n",
            "A value is trying to be set on a copy of a slice from a DataFrame.\n",
            "Try using .loc[row_indexer,col_indexer] = value instead\n",
            "\n",
            "See the caveats in the documentation: https://pandas.pydata.org/pandas-docs/stable/user_guide/indexing.html#returning-a-view-versus-a-copy\n",
            "  \n",
            "/usr/local/lib/python3.7/dist-packages/ipykernel_launcher.py:8: SettingWithCopyWarning: \n",
            "A value is trying to be set on a copy of a slice from a DataFrame.\n",
            "Try using .loc[row_indexer,col_indexer] = value instead\n",
            "\n",
            "See the caveats in the documentation: https://pandas.pydata.org/pandas-docs/stable/user_guide/indexing.html#returning-a-view-versus-a-copy\n",
            "  \n",
            "/usr/local/lib/python3.7/dist-packages/ipykernel_launcher.py:8: SettingWithCopyWarning: \n",
            "A value is trying to be set on a copy of a slice from a DataFrame.\n",
            "Try using .loc[row_indexer,col_indexer] = value instead\n",
            "\n",
            "See the caveats in the documentation: https://pandas.pydata.org/pandas-docs/stable/user_guide/indexing.html#returning-a-view-versus-a-copy\n",
            "  \n",
            "/usr/local/lib/python3.7/dist-packages/ipykernel_launcher.py:8: SettingWithCopyWarning: \n",
            "A value is trying to be set on a copy of a slice from a DataFrame.\n",
            "Try using .loc[row_indexer,col_indexer] = value instead\n",
            "\n",
            "See the caveats in the documentation: https://pandas.pydata.org/pandas-docs/stable/user_guide/indexing.html#returning-a-view-versus-a-copy\n",
            "  \n",
            "/usr/local/lib/python3.7/dist-packages/ipykernel_launcher.py:14: SettingWithCopyWarning: \n",
            "A value is trying to be set on a copy of a slice from a DataFrame.\n",
            "Try using .loc[row_indexer,col_indexer] = value instead\n",
            "\n",
            "See the caveats in the documentation: https://pandas.pydata.org/pandas-docs/stable/user_guide/indexing.html#returning-a-view-versus-a-copy\n",
            "  \n",
            "/usr/local/lib/python3.7/dist-packages/ipykernel_launcher.py:14: SettingWithCopyWarning: \n",
            "A value is trying to be set on a copy of a slice from a DataFrame.\n",
            "Try using .loc[row_indexer,col_indexer] = value instead\n",
            "\n",
            "See the caveats in the documentation: https://pandas.pydata.org/pandas-docs/stable/user_guide/indexing.html#returning-a-view-versus-a-copy\n",
            "  \n",
            "/usr/local/lib/python3.7/dist-packages/ipykernel_launcher.py:14: SettingWithCopyWarning: \n",
            "A value is trying to be set on a copy of a slice from a DataFrame.\n",
            "Try using .loc[row_indexer,col_indexer] = value instead\n",
            "\n",
            "See the caveats in the documentation: https://pandas.pydata.org/pandas-docs/stable/user_guide/indexing.html#returning-a-view-versus-a-copy\n",
            "  \n",
            "/usr/local/lib/python3.7/dist-packages/ipykernel_launcher.py:14: SettingWithCopyWarning: \n",
            "A value is trying to be set on a copy of a slice from a DataFrame.\n",
            "Try using .loc[row_indexer,col_indexer] = value instead\n",
            "\n",
            "See the caveats in the documentation: https://pandas.pydata.org/pandas-docs/stable/user_guide/indexing.html#returning-a-view-versus-a-copy\n",
            "  \n",
            "/usr/local/lib/python3.7/dist-packages/ipykernel_launcher.py:14: SettingWithCopyWarning: \n",
            "A value is trying to be set on a copy of a slice from a DataFrame.\n",
            "Try using .loc[row_indexer,col_indexer] = value instead\n",
            "\n",
            "See the caveats in the documentation: https://pandas.pydata.org/pandas-docs/stable/user_guide/indexing.html#returning-a-view-versus-a-copy\n",
            "  \n",
            "/usr/local/lib/python3.7/dist-packages/ipykernel_launcher.py:14: SettingWithCopyWarning: \n",
            "A value is trying to be set on a copy of a slice from a DataFrame.\n",
            "Try using .loc[row_indexer,col_indexer] = value instead\n",
            "\n",
            "See the caveats in the documentation: https://pandas.pydata.org/pandas-docs/stable/user_guide/indexing.html#returning-a-view-versus-a-copy\n",
            "  \n",
            "/usr/local/lib/python3.7/dist-packages/ipykernel_launcher.py:14: SettingWithCopyWarning: \n",
            "A value is trying to be set on a copy of a slice from a DataFrame.\n",
            "Try using .loc[row_indexer,col_indexer] = value instead\n",
            "\n",
            "See the caveats in the documentation: https://pandas.pydata.org/pandas-docs/stable/user_guide/indexing.html#returning-a-view-versus-a-copy\n",
            "  \n",
            "/usr/local/lib/python3.7/dist-packages/ipykernel_launcher.py:14: SettingWithCopyWarning: \n",
            "A value is trying to be set on a copy of a slice from a DataFrame.\n",
            "Try using .loc[row_indexer,col_indexer] = value instead\n",
            "\n",
            "See the caveats in the documentation: https://pandas.pydata.org/pandas-docs/stable/user_guide/indexing.html#returning-a-view-versus-a-copy\n",
            "  \n",
            "/usr/local/lib/python3.7/dist-packages/ipykernel_launcher.py:14: SettingWithCopyWarning: \n",
            "A value is trying to be set on a copy of a slice from a DataFrame.\n",
            "Try using .loc[row_indexer,col_indexer] = value instead\n",
            "\n",
            "See the caveats in the documentation: https://pandas.pydata.org/pandas-docs/stable/user_guide/indexing.html#returning-a-view-versus-a-copy\n",
            "  \n",
            "/usr/local/lib/python3.7/dist-packages/ipykernel_launcher.py:14: SettingWithCopyWarning: \n",
            "A value is trying to be set on a copy of a slice from a DataFrame.\n",
            "Try using .loc[row_indexer,col_indexer] = value instead\n",
            "\n",
            "See the caveats in the documentation: https://pandas.pydata.org/pandas-docs/stable/user_guide/indexing.html#returning-a-view-versus-a-copy\n",
            "  \n",
            "/usr/local/lib/python3.7/dist-packages/ipykernel_launcher.py:14: SettingWithCopyWarning: \n",
            "A value is trying to be set on a copy of a slice from a DataFrame.\n",
            "Try using .loc[row_indexer,col_indexer] = value instead\n",
            "\n",
            "See the caveats in the documentation: https://pandas.pydata.org/pandas-docs/stable/user_guide/indexing.html#returning-a-view-versus-a-copy\n",
            "  \n",
            "/usr/local/lib/python3.7/dist-packages/ipykernel_launcher.py:14: SettingWithCopyWarning: \n",
            "A value is trying to be set on a copy of a slice from a DataFrame.\n",
            "Try using .loc[row_indexer,col_indexer] = value instead\n",
            "\n",
            "See the caveats in the documentation: https://pandas.pydata.org/pandas-docs/stable/user_guide/indexing.html#returning-a-view-versus-a-copy\n",
            "  \n",
            "/usr/local/lib/python3.7/dist-packages/ipykernel_launcher.py:14: SettingWithCopyWarning: \n",
            "A value is trying to be set on a copy of a slice from a DataFrame.\n",
            "Try using .loc[row_indexer,col_indexer] = value instead\n",
            "\n",
            "See the caveats in the documentation: https://pandas.pydata.org/pandas-docs/stable/user_guide/indexing.html#returning-a-view-versus-a-copy\n",
            "  \n",
            "/usr/local/lib/python3.7/dist-packages/ipykernel_launcher.py:14: SettingWithCopyWarning: \n",
            "A value is trying to be set on a copy of a slice from a DataFrame.\n",
            "Try using .loc[row_indexer,col_indexer] = value instead\n",
            "\n",
            "See the caveats in the documentation: https://pandas.pydata.org/pandas-docs/stable/user_guide/indexing.html#returning-a-view-versus-a-copy\n",
            "  \n",
            "/usr/local/lib/python3.7/dist-packages/ipykernel_launcher.py:14: SettingWithCopyWarning: \n",
            "A value is trying to be set on a copy of a slice from a DataFrame.\n",
            "Try using .loc[row_indexer,col_indexer] = value instead\n",
            "\n",
            "See the caveats in the documentation: https://pandas.pydata.org/pandas-docs/stable/user_guide/indexing.html#returning-a-view-versus-a-copy\n",
            "  \n",
            "/usr/local/lib/python3.7/dist-packages/ipykernel_launcher.py:14: SettingWithCopyWarning: \n",
            "A value is trying to be set on a copy of a slice from a DataFrame.\n",
            "Try using .loc[row_indexer,col_indexer] = value instead\n",
            "\n",
            "See the caveats in the documentation: https://pandas.pydata.org/pandas-docs/stable/user_guide/indexing.html#returning-a-view-versus-a-copy\n",
            "  \n",
            "/usr/local/lib/python3.7/dist-packages/ipykernel_launcher.py:14: SettingWithCopyWarning: \n",
            "A value is trying to be set on a copy of a slice from a DataFrame.\n",
            "Try using .loc[row_indexer,col_indexer] = value instead\n",
            "\n",
            "See the caveats in the documentation: https://pandas.pydata.org/pandas-docs/stable/user_guide/indexing.html#returning-a-view-versus-a-copy\n",
            "  \n",
            "/usr/local/lib/python3.7/dist-packages/ipykernel_launcher.py:14: SettingWithCopyWarning: \n",
            "A value is trying to be set on a copy of a slice from a DataFrame.\n",
            "Try using .loc[row_indexer,col_indexer] = value instead\n",
            "\n",
            "See the caveats in the documentation: https://pandas.pydata.org/pandas-docs/stable/user_guide/indexing.html#returning-a-view-versus-a-copy\n",
            "  \n",
            "/usr/local/lib/python3.7/dist-packages/ipykernel_launcher.py:14: SettingWithCopyWarning: \n",
            "A value is trying to be set on a copy of a slice from a DataFrame.\n",
            "Try using .loc[row_indexer,col_indexer] = value instead\n",
            "\n",
            "See the caveats in the documentation: https://pandas.pydata.org/pandas-docs/stable/user_guide/indexing.html#returning-a-view-versus-a-copy\n",
            "  \n",
            "/usr/local/lib/python3.7/dist-packages/ipykernel_launcher.py:14: SettingWithCopyWarning: \n",
            "A value is trying to be set on a copy of a slice from a DataFrame.\n",
            "Try using .loc[row_indexer,col_indexer] = value instead\n",
            "\n",
            "See the caveats in the documentation: https://pandas.pydata.org/pandas-docs/stable/user_guide/indexing.html#returning-a-view-versus-a-copy\n",
            "  \n",
            "/usr/local/lib/python3.7/dist-packages/ipykernel_launcher.py:14: SettingWithCopyWarning: \n",
            "A value is trying to be set on a copy of a slice from a DataFrame.\n",
            "Try using .loc[row_indexer,col_indexer] = value instead\n",
            "\n",
            "See the caveats in the documentation: https://pandas.pydata.org/pandas-docs/stable/user_guide/indexing.html#returning-a-view-versus-a-copy\n",
            "  \n",
            "/usr/local/lib/python3.7/dist-packages/ipykernel_launcher.py:14: SettingWithCopyWarning: \n",
            "A value is trying to be set on a copy of a slice from a DataFrame.\n",
            "Try using .loc[row_indexer,col_indexer] = value instead\n",
            "\n",
            "See the caveats in the documentation: https://pandas.pydata.org/pandas-docs/stable/user_guide/indexing.html#returning-a-view-versus-a-copy\n",
            "  \n",
            "/usr/local/lib/python3.7/dist-packages/ipykernel_launcher.py:14: SettingWithCopyWarning: \n",
            "A value is trying to be set on a copy of a slice from a DataFrame.\n",
            "Try using .loc[row_indexer,col_indexer] = value instead\n",
            "\n",
            "See the caveats in the documentation: https://pandas.pydata.org/pandas-docs/stable/user_guide/indexing.html#returning-a-view-versus-a-copy\n",
            "  \n",
            "/usr/local/lib/python3.7/dist-packages/ipykernel_launcher.py:14: SettingWithCopyWarning: \n",
            "A value is trying to be set on a copy of a slice from a DataFrame.\n",
            "Try using .loc[row_indexer,col_indexer] = value instead\n",
            "\n",
            "See the caveats in the documentation: https://pandas.pydata.org/pandas-docs/stable/user_guide/indexing.html#returning-a-view-versus-a-copy\n",
            "  \n"
          ],
          "name": "stderr"
        }
      ]
    },
    {
      "cell_type": "code",
      "metadata": {
        "colab": {
          "base_uri": "https://localhost:8080/",
          "height": 257
        },
        "id": "GvgNSE5_SDxn",
        "outputId": "249e3918-0f00-4935-930e-190f043830cb"
      },
      "source": [
        "train_set.head()"
      ],
      "execution_count": null,
      "outputs": [
        {
          "output_type": "execute_result",
          "data": {
            "text/html": [
              "<div>\n",
              "<style scoped>\n",
              "    .dataframe tbody tr th:only-of-type {\n",
              "        vertical-align: middle;\n",
              "    }\n",
              "\n",
              "    .dataframe tbody tr th {\n",
              "        vertical-align: top;\n",
              "    }\n",
              "\n",
              "    .dataframe thead th {\n",
              "        text-align: right;\n",
              "    }\n",
              "</style>\n",
              "<table border=\"1\" class=\"dataframe\">\n",
              "  <thead>\n",
              "    <tr style=\"text-align: right;\">\n",
              "      <th></th>\n",
              "      <th>venue</th>\n",
              "      <th>batsman</th>\n",
              "      <th>bowler</th>\n",
              "      <th>runs</th>\n",
              "      <th>wickets</th>\n",
              "      <th>overs</th>\n",
              "      <th>runs_last_5</th>\n",
              "      <th>wickets_last_5</th>\n",
              "      <th>total</th>\n",
              "      <th>bat_team_Chennai Super Kings</th>\n",
              "      <th>bat_team_Delhi Daredevils</th>\n",
              "      <th>bat_team_Kings XI Punjab</th>\n",
              "      <th>bat_team_Kolkata Knight Riders</th>\n",
              "      <th>bat_team_Mumbai Indians</th>\n",
              "      <th>bat_team_Rajasthan Royals</th>\n",
              "      <th>bat_team_Royal Challengers Bangalore</th>\n",
              "      <th>bat_team_Sunrisers Hyderabad</th>\n",
              "      <th>bowl_team_Chennai Super Kings</th>\n",
              "      <th>bowl_team_Delhi Daredevils</th>\n",
              "      <th>bowl_team_Kings XI Punjab</th>\n",
              "      <th>bowl_team_Kolkata Knight Riders</th>\n",
              "      <th>bowl_team_Mumbai Indians</th>\n",
              "      <th>bowl_team_Rajasthan Royals</th>\n",
              "      <th>bowl_team_Royal Challengers Bangalore</th>\n",
              "      <th>bowl_team_Sunrisers Hyderabad</th>\n",
              "    </tr>\n",
              "  </thead>\n",
              "  <tbody>\n",
              "    <tr>\n",
              "      <th>0</th>\n",
              "      <td>-0.347658</td>\n",
              "      <td>1.019795</td>\n",
              "      <td>0.315689</td>\n",
              "      <td>-1.505300</td>\n",
              "      <td>-1.202712</td>\n",
              "      <td>-1.673764</td>\n",
              "      <td>-2.146386</td>\n",
              "      <td>-1.060749</td>\n",
              "      <td>222</td>\n",
              "      <td>-0.441104</td>\n",
              "      <td>-0.350265</td>\n",
              "      <td>-0.409344</td>\n",
              "      <td>2.812992</td>\n",
              "      <td>-0.438514</td>\n",
              "      <td>-0.387415</td>\n",
              "      <td>-0.361941</td>\n",
              "      <td>-0.262614</td>\n",
              "      <td>-0.38579</td>\n",
              "      <td>-0.41462</td>\n",
              "      <td>-0.370519</td>\n",
              "      <td>-0.404618</td>\n",
              "      <td>-0.3883</td>\n",
              "      <td>-0.401102</td>\n",
              "      <td>2.3819</td>\n",
              "      <td>-0.211722</td>\n",
              "    </tr>\n",
              "    <tr>\n",
              "      <th>1</th>\n",
              "      <td>-0.347658</td>\n",
              "      <td>-1.312059</td>\n",
              "      <td>0.315689</td>\n",
              "      <td>-1.505300</td>\n",
              "      <td>-1.202712</td>\n",
              "      <td>-1.656445</td>\n",
              "      <td>-2.146386</td>\n",
              "      <td>-1.060749</td>\n",
              "      <td>222</td>\n",
              "      <td>-0.441104</td>\n",
              "      <td>-0.350265</td>\n",
              "      <td>-0.409344</td>\n",
              "      <td>2.812992</td>\n",
              "      <td>-0.438514</td>\n",
              "      <td>-0.387415</td>\n",
              "      <td>-0.361941</td>\n",
              "      <td>-0.262614</td>\n",
              "      <td>-0.38579</td>\n",
              "      <td>-0.41462</td>\n",
              "      <td>-0.370519</td>\n",
              "      <td>-0.404618</td>\n",
              "      <td>-0.3883</td>\n",
              "      <td>-0.401102</td>\n",
              "      <td>2.3819</td>\n",
              "      <td>-0.211722</td>\n",
              "    </tr>\n",
              "    <tr>\n",
              "      <th>2</th>\n",
              "      <td>-0.347658</td>\n",
              "      <td>-1.312059</td>\n",
              "      <td>0.315689</td>\n",
              "      <td>-1.484884</td>\n",
              "      <td>-1.202712</td>\n",
              "      <td>-1.656445</td>\n",
              "      <td>-2.079747</td>\n",
              "      <td>-1.060749</td>\n",
              "      <td>222</td>\n",
              "      <td>-0.441104</td>\n",
              "      <td>-0.350265</td>\n",
              "      <td>-0.409344</td>\n",
              "      <td>2.812992</td>\n",
              "      <td>-0.438514</td>\n",
              "      <td>-0.387415</td>\n",
              "      <td>-0.361941</td>\n",
              "      <td>-0.262614</td>\n",
              "      <td>-0.38579</td>\n",
              "      <td>-0.41462</td>\n",
              "      <td>-0.370519</td>\n",
              "      <td>-0.404618</td>\n",
              "      <td>-0.3883</td>\n",
              "      <td>-0.401102</td>\n",
              "      <td>2.3819</td>\n",
              "      <td>-0.211722</td>\n",
              "    </tr>\n",
              "    <tr>\n",
              "      <th>3</th>\n",
              "      <td>-0.347658</td>\n",
              "      <td>-1.312059</td>\n",
              "      <td>0.315689</td>\n",
              "      <td>-1.484884</td>\n",
              "      <td>-1.202712</td>\n",
              "      <td>-1.639125</td>\n",
              "      <td>-2.079747</td>\n",
              "      <td>-1.060749</td>\n",
              "      <td>222</td>\n",
              "      <td>-0.441104</td>\n",
              "      <td>-0.350265</td>\n",
              "      <td>-0.409344</td>\n",
              "      <td>2.812992</td>\n",
              "      <td>-0.438514</td>\n",
              "      <td>-0.387415</td>\n",
              "      <td>-0.361941</td>\n",
              "      <td>-0.262614</td>\n",
              "      <td>-0.38579</td>\n",
              "      <td>-0.41462</td>\n",
              "      <td>-0.370519</td>\n",
              "      <td>-0.404618</td>\n",
              "      <td>-0.3883</td>\n",
              "      <td>-0.401102</td>\n",
              "      <td>2.3819</td>\n",
              "      <td>-0.211722</td>\n",
              "    </tr>\n",
              "    <tr>\n",
              "      <th>4</th>\n",
              "      <td>-0.347658</td>\n",
              "      <td>-1.312059</td>\n",
              "      <td>0.315689</td>\n",
              "      <td>-1.484884</td>\n",
              "      <td>-1.202712</td>\n",
              "      <td>-1.621806</td>\n",
              "      <td>-2.079747</td>\n",
              "      <td>-1.060749</td>\n",
              "      <td>222</td>\n",
              "      <td>-0.441104</td>\n",
              "      <td>-0.350265</td>\n",
              "      <td>-0.409344</td>\n",
              "      <td>2.812992</td>\n",
              "      <td>-0.438514</td>\n",
              "      <td>-0.387415</td>\n",
              "      <td>-0.361941</td>\n",
              "      <td>-0.262614</td>\n",
              "      <td>-0.38579</td>\n",
              "      <td>-0.41462</td>\n",
              "      <td>-0.370519</td>\n",
              "      <td>-0.404618</td>\n",
              "      <td>-0.3883</td>\n",
              "      <td>-0.401102</td>\n",
              "      <td>2.3819</td>\n",
              "      <td>-0.211722</td>\n",
              "    </tr>\n",
              "  </tbody>\n",
              "</table>\n",
              "</div>"
            ],
            "text/plain": [
              "      venue  ...  bowl_team_Sunrisers Hyderabad\n",
              "0 -0.347658  ...                      -0.211722\n",
              "1 -0.347658  ...                      -0.211722\n",
              "2 -0.347658  ...                      -0.211722\n",
              "3 -0.347658  ...                      -0.211722\n",
              "4 -0.347658  ...                      -0.211722\n",
              "\n",
              "[5 rows x 25 columns]"
            ]
          },
          "metadata": {
            "tags": []
          },
          "execution_count": 29
        }
      ]
    },
    {
      "cell_type": "code",
      "metadata": {
        "colab": {
          "base_uri": "https://localhost:8080/",
          "height": 257
        },
        "id": "6Cu_QFyGSNlG",
        "outputId": "bcac9909-1979-41bb-8d4f-e8d92713dbce"
      },
      "source": [
        "test_set.head()"
      ],
      "execution_count": null,
      "outputs": [
        {
          "output_type": "execute_result",
          "data": {
            "text/html": [
              "<div>\n",
              "<style scoped>\n",
              "    .dataframe tbody tr th:only-of-type {\n",
              "        vertical-align: middle;\n",
              "    }\n",
              "\n",
              "    .dataframe tbody tr th {\n",
              "        vertical-align: top;\n",
              "    }\n",
              "\n",
              "    .dataframe thead th {\n",
              "        text-align: right;\n",
              "    }\n",
              "</style>\n",
              "<table border=\"1\" class=\"dataframe\">\n",
              "  <thead>\n",
              "    <tr style=\"text-align: right;\">\n",
              "      <th></th>\n",
              "      <th>venue</th>\n",
              "      <th>batsman</th>\n",
              "      <th>bowler</th>\n",
              "      <th>runs</th>\n",
              "      <th>wickets</th>\n",
              "      <th>overs</th>\n",
              "      <th>runs_last_5</th>\n",
              "      <th>wickets_last_5</th>\n",
              "      <th>total</th>\n",
              "      <th>bat_team_Chennai Super Kings</th>\n",
              "      <th>bat_team_Delhi Daredevils</th>\n",
              "      <th>bat_team_Kings XI Punjab</th>\n",
              "      <th>bat_team_Kolkata Knight Riders</th>\n",
              "      <th>bat_team_Mumbai Indians</th>\n",
              "      <th>bat_team_Rajasthan Royals</th>\n",
              "      <th>bat_team_Royal Challengers Bangalore</th>\n",
              "      <th>bat_team_Sunrisers Hyderabad</th>\n",
              "      <th>bowl_team_Chennai Super Kings</th>\n",
              "      <th>bowl_team_Delhi Daredevils</th>\n",
              "      <th>bowl_team_Kings XI Punjab</th>\n",
              "      <th>bowl_team_Kolkata Knight Riders</th>\n",
              "      <th>bowl_team_Mumbai Indians</th>\n",
              "      <th>bowl_team_Rajasthan Royals</th>\n",
              "      <th>bowl_team_Royal Challengers Bangalore</th>\n",
              "      <th>bowl_team_Sunrisers Hyderabad</th>\n",
              "    </tr>\n",
              "  </thead>\n",
              "  <tbody>\n",
              "    <tr>\n",
              "      <th>62066</th>\n",
              "      <td>-1.053301</td>\n",
              "      <td>-0.133250</td>\n",
              "      <td>-1.547011</td>\n",
              "      <td>-1.455887</td>\n",
              "      <td>-1.158339</td>\n",
              "      <td>-1.684851</td>\n",
              "      <td>-2.018342</td>\n",
              "      <td>-1.069311</td>\n",
              "      <td>98</td>\n",
              "      <td>0.0</td>\n",
              "      <td>2.609506</td>\n",
              "      <td>-0.445434</td>\n",
              "      <td>-0.415137</td>\n",
              "      <td>-0.390686</td>\n",
              "      <td>0.0</td>\n",
              "      <td>-0.494858</td>\n",
              "      <td>-0.54692</td>\n",
              "      <td>0.0</td>\n",
              "      <td>-0.495273</td>\n",
              "      <td>-0.41272</td>\n",
              "      <td>1.925143</td>\n",
              "      <td>-0.522732</td>\n",
              "      <td>0.0</td>\n",
              "      <td>-0.360815</td>\n",
              "      <td>-0.360815</td>\n",
              "    </tr>\n",
              "    <tr>\n",
              "      <th>62067</th>\n",
              "      <td>-1.053301</td>\n",
              "      <td>-0.133250</td>\n",
              "      <td>-1.547011</td>\n",
              "      <td>-1.455887</td>\n",
              "      <td>-1.158339</td>\n",
              "      <td>-1.667531</td>\n",
              "      <td>-2.018342</td>\n",
              "      <td>-1.069311</td>\n",
              "      <td>98</td>\n",
              "      <td>0.0</td>\n",
              "      <td>2.609506</td>\n",
              "      <td>-0.445434</td>\n",
              "      <td>-0.415137</td>\n",
              "      <td>-0.390686</td>\n",
              "      <td>0.0</td>\n",
              "      <td>-0.494858</td>\n",
              "      <td>-0.54692</td>\n",
              "      <td>0.0</td>\n",
              "      <td>-0.495273</td>\n",
              "      <td>-0.41272</td>\n",
              "      <td>1.925143</td>\n",
              "      <td>-0.522732</td>\n",
              "      <td>0.0</td>\n",
              "      <td>-0.360815</td>\n",
              "      <td>-0.360815</td>\n",
              "    </tr>\n",
              "    <tr>\n",
              "      <th>62068</th>\n",
              "      <td>-1.053301</td>\n",
              "      <td>-0.133250</td>\n",
              "      <td>-1.547011</td>\n",
              "      <td>-1.436325</td>\n",
              "      <td>-1.158339</td>\n",
              "      <td>-1.667531</td>\n",
              "      <td>-1.952746</td>\n",
              "      <td>-1.069311</td>\n",
              "      <td>98</td>\n",
              "      <td>0.0</td>\n",
              "      <td>2.609506</td>\n",
              "      <td>-0.445434</td>\n",
              "      <td>-0.415137</td>\n",
              "      <td>-0.390686</td>\n",
              "      <td>0.0</td>\n",
              "      <td>-0.494858</td>\n",
              "      <td>-0.54692</td>\n",
              "      <td>0.0</td>\n",
              "      <td>-0.495273</td>\n",
              "      <td>-0.41272</td>\n",
              "      <td>1.925143</td>\n",
              "      <td>-0.522732</td>\n",
              "      <td>0.0</td>\n",
              "      <td>-0.360815</td>\n",
              "      <td>-0.360815</td>\n",
              "    </tr>\n",
              "    <tr>\n",
              "      <th>62069</th>\n",
              "      <td>-1.053301</td>\n",
              "      <td>-0.133250</td>\n",
              "      <td>-1.547011</td>\n",
              "      <td>-1.416762</td>\n",
              "      <td>-1.158339</td>\n",
              "      <td>-1.650212</td>\n",
              "      <td>-1.887150</td>\n",
              "      <td>-1.069311</td>\n",
              "      <td>98</td>\n",
              "      <td>0.0</td>\n",
              "      <td>2.609506</td>\n",
              "      <td>-0.445434</td>\n",
              "      <td>-0.415137</td>\n",
              "      <td>-0.390686</td>\n",
              "      <td>0.0</td>\n",
              "      <td>-0.494858</td>\n",
              "      <td>-0.54692</td>\n",
              "      <td>0.0</td>\n",
              "      <td>-0.495273</td>\n",
              "      <td>-0.41272</td>\n",
              "      <td>1.925143</td>\n",
              "      <td>-0.522732</td>\n",
              "      <td>0.0</td>\n",
              "      <td>-0.360815</td>\n",
              "      <td>-0.360815</td>\n",
              "    </tr>\n",
              "    <tr>\n",
              "      <th>62070</th>\n",
              "      <td>-1.053301</td>\n",
              "      <td>0.399457</td>\n",
              "      <td>-1.547011</td>\n",
              "      <td>-1.416762</td>\n",
              "      <td>-1.158339</td>\n",
              "      <td>-1.632892</td>\n",
              "      <td>-1.887150</td>\n",
              "      <td>-1.069311</td>\n",
              "      <td>98</td>\n",
              "      <td>0.0</td>\n",
              "      <td>2.609506</td>\n",
              "      <td>-0.445434</td>\n",
              "      <td>-0.415137</td>\n",
              "      <td>-0.390686</td>\n",
              "      <td>0.0</td>\n",
              "      <td>-0.494858</td>\n",
              "      <td>-0.54692</td>\n",
              "      <td>0.0</td>\n",
              "      <td>-0.495273</td>\n",
              "      <td>-0.41272</td>\n",
              "      <td>1.925143</td>\n",
              "      <td>-0.522732</td>\n",
              "      <td>0.0</td>\n",
              "      <td>-0.360815</td>\n",
              "      <td>-0.360815</td>\n",
              "    </tr>\n",
              "  </tbody>\n",
              "</table>\n",
              "</div>"
            ],
            "text/plain": [
              "          venue  ...  bowl_team_Sunrisers Hyderabad\n",
              "62066 -1.053301  ...                      -0.360815\n",
              "62067 -1.053301  ...                      -0.360815\n",
              "62068 -1.053301  ...                      -0.360815\n",
              "62069 -1.053301  ...                      -0.360815\n",
              "62070 -1.053301  ...                      -0.360815\n",
              "\n",
              "[5 rows x 25 columns]"
            ]
          },
          "metadata": {
            "tags": []
          },
          "execution_count": 30
        }
      ]
    },
    {
      "cell_type": "code",
      "metadata": {
        "id": "lcBa-bEqScYN"
      },
      "source": [
        "#Splitting the train and test set into X and y\n",
        "X_train, y_train = train_set.drop(['total'], axis=1), train_set['total']\n",
        "X_test, y_test = test_set.drop(['total'], axis=1), test_set['total']\n"
      ],
      "execution_count": null,
      "outputs": []
    },
    {
      "cell_type": "markdown",
      "metadata": {
        "id": "5lmowXqJW2CW"
      },
      "source": [
        "##**Machine Learning Modelling**"
      ]
    },
    {
      "cell_type": "code",
      "metadata": {
        "id": "FAG-pgylWGKO"
      },
      "source": [
        "from sklearn.model_selection import RandomizedSearchCV\n",
        "from sklearn.metrics import mean_squared_error\n",
        "from sklearn.metrics import mean_absolute_error\n",
        "from sklearn.metrics import mean_squared_log_error\n",
        "\n",
        "#function for computing the metrics\n",
        "def compute_metrics(y_true, y_pred):\n",
        "  #1. Mean absolute error\n",
        "  mae = mean_absolute_error(y_true, y_pred)\n",
        "  #2. Mean squared error\n",
        "  mse = mean_squared_error(y_true, y_pred)\n",
        "  #3. Root mean squared error\n",
        "  rmse = np.sqrt(mean_squared_error(y_true,y_pred))\n",
        "\n",
        "  try:\n",
        "  #5. Mean squared log error\n",
        "    msle = mean_squared_log_error(y_true, y_pred)\n",
        "    metrics_dict = {'MAE' : [mae], 'MSE' : [mse], 'RMSE' : [rmse], 'MSLE' : [msle]}\n",
        "  except:\n",
        "    metrics_dict = {'MAE' : [mae], 'MSE' : [mse], 'RMSE' : [rmse], 'MSLE' : [0]}\n",
        "\n",
        "  # Create a DataFrame and storing all the metrics\n",
        "  metrics_df = pd.DataFrame(data=metrics_dict) # Creating the DataFrame\n",
        "    \n",
        "  return  metrics_df# formatting the DataFrame to return results only upto 4 decimal places"
      ],
      "execution_count": null,
      "outputs": []
    },
    {
      "cell_type": "code",
      "metadata": {
        "colab": {
          "base_uri": "https://localhost:8080/"
        },
        "id": "vijIv4gcYsSu",
        "outputId": "3852072f-a553-43dc-80df-910410346436"
      },
      "source": [
        "#1. K Nearest Neighbours\n",
        "from sklearn.neighbors import KNeighborsRegressor\n",
        "\n",
        "knn = KNeighborsRegressor()\n",
        "\n",
        "#model parameters\n",
        "n_neighbors = list(np.arange(2,100,2))\n",
        "weights = ['uniform', 'distance']\n",
        "algorithm = ['auto','ball_tree','kd_tree', 'brute']\n",
        "\n",
        "#parameter dictionary\n",
        "params = {\n",
        "    'n_neighbors': n_neighbors,\n",
        "    'weights': weights,\n",
        "    'algorithm':algorithm\n",
        "}\n",
        "#randomized search object for knn\n",
        "rscv_knn = RandomizedSearchCV(knn, params, n_iter=2, n_jobs=-1, cv=5, refit=True, scoring='neg_mean_squared_error', random_state=42)\n",
        "#fit the model\n",
        "rscv_knn.fit(X_train, y_train)"
      ],
      "execution_count": null,
      "outputs": [
        {
          "output_type": "stream",
          "text": [
            "/usr/local/lib/python3.7/dist-packages/joblib/externals/loky/process_executor.py:691: UserWarning: A worker stopped while some jobs were given to the executor. This can be caused by a too short worker timeout or by a memory leak.\n",
            "  \"timeout or by a memory leak.\", UserWarning\n"
          ],
          "name": "stderr"
        },
        {
          "output_type": "execute_result",
          "data": {
            "text/plain": [
              "RandomizedSearchCV(cv=5, error_score=nan,\n",
              "                   estimator=KNeighborsRegressor(algorithm='auto', leaf_size=30,\n",
              "                                                 metric='minkowski',\n",
              "                                                 metric_params=None,\n",
              "                                                 n_jobs=None, n_neighbors=5,\n",
              "                                                 p=2, weights='uniform'),\n",
              "                   iid='deprecated', n_iter=2, n_jobs=-1,\n",
              "                   param_distributions={'algorithm': ['auto', 'ball_tree',\n",
              "                                                      'kd_tree', 'brute'],\n",
              "                                        'n_neighbors': [2, 4, 6, 8, 10, 12, 14,\n",
              "                                                        16, 18, 20, 22, 24, 26,\n",
              "                                                        28, 30, 32, 34, 36, 38,\n",
              "                                                        40, 42, 44, 46, 48, 50,\n",
              "                                                        52, 54, 56, 58, 60, ...],\n",
              "                                        'weights': ['uniform', 'distance']},\n",
              "                   pre_dispatch='2*n_jobs', random_state=42, refit=True,\n",
              "                   return_train_score=False, scoring='neg_mean_squared_error',\n",
              "                   verbose=0)"
            ]
          },
          "metadata": {
            "tags": []
          },
          "execution_count": 37
        }
      ]
    },
    {
      "cell_type": "code",
      "metadata": {
        "colab": {
          "base_uri": "https://localhost:8080/"
        },
        "id": "ry5bcao_iDvQ",
        "outputId": "d0656e5e-1b3e-4cfe-94b8-5b5e4d6effc3"
      },
      "source": [
        "rscv_knn.best_estimator_"
      ],
      "execution_count": null,
      "outputs": [
        {
          "output_type": "execute_result",
          "data": {
            "text/plain": [
              "KNeighborsRegressor(algorithm='brute', leaf_size=30, metric='minkowski',\n",
              "                    metric_params=None, n_jobs=None, n_neighbors=56, p=2,\n",
              "                    weights='uniform')"
            ]
          },
          "metadata": {
            "tags": []
          },
          "execution_count": 38
        }
      ]
    },
    {
      "cell_type": "code",
      "metadata": {
        "id": "EFimf6W4iEo7"
      },
      "source": [
        "#Predict the values for X_test\n",
        "knn_pred = rscv_knn.predict(X_test)\n",
        "#Compute the metrics for KNN model\n",
        "knn_metrics = compute_metrics(y_test, knn_pred)"
      ],
      "execution_count": null,
      "outputs": []
    },
    {
      "cell_type": "code",
      "metadata": {
        "colab": {
          "base_uri": "https://localhost:8080/",
          "height": 80
        },
        "id": "B4wjYY9wiErF",
        "outputId": "b6289dc8-12c8-4dce-c45b-b41f9a31e8a1"
      },
      "source": [
        "knn_metrics"
      ],
      "execution_count": null,
      "outputs": [
        {
          "output_type": "execute_result",
          "data": {
            "text/html": [
              "<div>\n",
              "<style scoped>\n",
              "    .dataframe tbody tr th:only-of-type {\n",
              "        vertical-align: middle;\n",
              "    }\n",
              "\n",
              "    .dataframe tbody tr th {\n",
              "        vertical-align: top;\n",
              "    }\n",
              "\n",
              "    .dataframe thead th {\n",
              "        text-align: right;\n",
              "    }\n",
              "</style>\n",
              "<table border=\"1\" class=\"dataframe\">\n",
              "  <thead>\n",
              "    <tr style=\"text-align: right;\">\n",
              "      <th></th>\n",
              "      <th>MAE</th>\n",
              "      <th>MSE</th>\n",
              "      <th>RMSE</th>\n",
              "      <th>MSLE</th>\n",
              "    </tr>\n",
              "  </thead>\n",
              "  <tbody>\n",
              "    <tr>\n",
              "      <th>0</th>\n",
              "      <td>23.829754</td>\n",
              "      <td>888.199801</td>\n",
              "      <td>29.802681</td>\n",
              "      <td>0.036395</td>\n",
              "    </tr>\n",
              "  </tbody>\n",
              "</table>\n",
              "</div>"
            ],
            "text/plain": [
              "         MAE         MSE       RMSE      MSLE\n",
              "0  23.829754  888.199801  29.802681  0.036395"
            ]
          },
          "metadata": {
            "tags": []
          },
          "execution_count": 42
        }
      ]
    },
    {
      "cell_type": "code",
      "metadata": {
        "colab": {
          "base_uri": "https://localhost:8080/"
        },
        "id": "FSF2Jq8PklB8",
        "outputId": "9744f850-1760-4ed5-b0ca-4edefc078426"
      },
      "source": [
        "# 2. Linear Regression\n",
        "\n",
        "'''Expected Outcome: Results will be poor because, the assumptions of Linear Regression (Predictors should be independent) is violated,\n",
        "   because predictors or variables are showing co-linearity amongst themselves.'''\n",
        "\n",
        "from sklearn.linear_model import LinearRegression\n",
        "\n",
        "# Model Object\n",
        "lr = LinearRegression() # No need for RandomizedSearchCV because Linear Regression requires almost no Hyperparameter Tuning\n",
        "\n",
        "# Fit the model\n",
        "lr.fit(X_train, y_train)"
      ],
      "execution_count": null,
      "outputs": [
        {
          "output_type": "execute_result",
          "data": {
            "text/plain": [
              "LinearRegression(copy_X=True, fit_intercept=True, n_jobs=None, normalize=False)"
            ]
          },
          "metadata": {
            "tags": []
          },
          "execution_count": 43
        }
      ]
    },
    {
      "cell_type": "code",
      "metadata": {
        "id": "ngkPonrHlG3J"
      },
      "source": [
        "# testing the model\n",
        "lr_pred = lr.predict(X_test)\n",
        "\n",
        "# Compute metrics\n",
        "lr_metrics = compute_metrics(y_test, lr_pred)"
      ],
      "execution_count": null,
      "outputs": []
    },
    {
      "cell_type": "code",
      "metadata": {
        "colab": {
          "base_uri": "https://localhost:8080/",
          "height": 80
        },
        "id": "XLP0nq_tlG6U",
        "outputId": "50ceeb07-a66f-4ae2-cd18-b96e0dedab06"
      },
      "source": [
        "lr_metrics #Poor Reults because of co-linearity of predictors or variables"
      ],
      "execution_count": null,
      "outputs": [
        {
          "output_type": "execute_result",
          "data": {
            "text/html": [
              "<div>\n",
              "<style scoped>\n",
              "    .dataframe tbody tr th:only-of-type {\n",
              "        vertical-align: middle;\n",
              "    }\n",
              "\n",
              "    .dataframe tbody tr th {\n",
              "        vertical-align: top;\n",
              "    }\n",
              "\n",
              "    .dataframe thead th {\n",
              "        text-align: right;\n",
              "    }\n",
              "</style>\n",
              "<table border=\"1\" class=\"dataframe\">\n",
              "  <thead>\n",
              "    <tr style=\"text-align: right;\">\n",
              "      <th></th>\n",
              "      <th>MAE</th>\n",
              "      <th>MSE</th>\n",
              "      <th>RMSE</th>\n",
              "      <th>MSLE</th>\n",
              "    </tr>\n",
              "  </thead>\n",
              "  <tbody>\n",
              "    <tr>\n",
              "      <th>0</th>\n",
              "      <td>2.847098e+13</td>\n",
              "      <td>1.288757e+27</td>\n",
              "      <td>3.589926e+13</td>\n",
              "      <td>0</td>\n",
              "    </tr>\n",
              "  </tbody>\n",
              "</table>\n",
              "</div>"
            ],
            "text/plain": [
              "            MAE           MSE          RMSE  MSLE\n",
              "0  2.847098e+13  1.288757e+27  3.589926e+13     0"
            ]
          },
          "metadata": {
            "tags": []
          },
          "execution_count": 46
        }
      ]
    },
    {
      "cell_type": "code",
      "metadata": {
        "colab": {
          "base_uri": "https://localhost:8080/"
        },
        "id": "cNZjP_pFlG9B",
        "outputId": "c2ee69b0-3edb-455b-b6bb-1fa727b16ff6"
      },
      "source": [
        "# 3. Decision Tree\n",
        "from sklearn.tree import DecisionTreeRegressor\n",
        "\n",
        "# Model Object\n",
        "dt_reg = DecisionTreeRegressor()\n",
        "\n",
        "# Hyperparameter Tuning\n",
        "criterion = [\"mse\", \"friedman_mse\", \"mae\", \"poisson\"]\n",
        "splitter = [\"best\", \"random\"]\n",
        "max_depth = list(np.arange(2,200,2))\n",
        "min_samples_split = list(np.arange(1,100))\n",
        "min_weight_fraction_leaf = list(np.linspace(0.0, 0.5))\n",
        "max_features = [\"auto\", \"sqrt\", \"log2\"]\n",
        "max_features.append(None)\n",
        "\n",
        "# Set parameters\n",
        "params = {'criterion':criterion,\n",
        "          'splitter':splitter,\n",
        "          'max_depth':max_depth,\n",
        "          'min_samples_split':min_samples_split,\n",
        "          'min_weight_fraction_leaf':min_weight_fraction_leaf,\n",
        "          'max_features':max_features\n",
        "          }\n",
        "\n",
        "# RSCV object\n",
        "rscv_dt = RandomizedSearchCV(dt_reg, params, n_iter=50, cv=5, verbose=1, random_state=42, n_jobs=-1)\n",
        "\n",
        "# Fit the model\n",
        "rscv_dt.fit(X_train, y_train)"
      ],
      "execution_count": null,
      "outputs": [
        {
          "output_type": "stream",
          "text": [
            "Fitting 5 folds for each of 50 candidates, totalling 250 fits\n"
          ],
          "name": "stdout"
        },
        {
          "output_type": "stream",
          "text": [
            "[Parallel(n_jobs=-1)]: Using backend LokyBackend with 2 concurrent workers.\n",
            "[Parallel(n_jobs=-1)]: Done  64 tasks      | elapsed:  1.7min\n",
            "[Parallel(n_jobs=-1)]: Done 230 tasks      | elapsed: 15.7min\n",
            "[Parallel(n_jobs=-1)]: Done 250 out of 250 | elapsed: 15.9min finished\n"
          ],
          "name": "stderr"
        },
        {
          "output_type": "execute_result",
          "data": {
            "text/plain": [
              "RandomizedSearchCV(cv=5, error_score=nan,\n",
              "                   estimator=DecisionTreeRegressor(ccp_alpha=0.0,\n",
              "                                                   criterion='mse',\n",
              "                                                   max_depth=None,\n",
              "                                                   max_features=None,\n",
              "                                                   max_leaf_nodes=None,\n",
              "                                                   min_impurity_decrease=0.0,\n",
              "                                                   min_impurity_split=None,\n",
              "                                                   min_samples_leaf=1,\n",
              "                                                   min_samples_split=2,\n",
              "                                                   min_weight_fraction_leaf=0.0,\n",
              "                                                   presort='deprecated',\n",
              "                                                   random_state=None,\n",
              "                                                   splitter='best'),\n",
              "                   iid='deprecated', n_it...\n",
              "                                                                     0.19387755102040816,\n",
              "                                                                     0.2040816326530612,\n",
              "                                                                     0.21428571428571427,\n",
              "                                                                     0.22448979591836732,\n",
              "                                                                     0.2346938775510204,\n",
              "                                                                     0.24489795918367346,\n",
              "                                                                     0.25510204081632654,\n",
              "                                                                     0.26530612244897955,\n",
              "                                                                     0.2755102040816326,\n",
              "                                                                     0.2857142857142857,\n",
              "                                                                     0.29591836734693877, ...],\n",
              "                                        'splitter': ['best', 'random']},\n",
              "                   pre_dispatch='2*n_jobs', random_state=42, refit=True,\n",
              "                   return_train_score=False, scoring=None, verbose=1)"
            ]
          },
          "metadata": {
            "tags": []
          },
          "execution_count": 47
        }
      ]
    },
    {
      "cell_type": "code",
      "metadata": {
        "colab": {
          "base_uri": "https://localhost:8080/"
        },
        "id": "jbey_GWalG_W",
        "outputId": "10f12a52-076c-4172-e7c0-b91606d580ff"
      },
      "source": [
        "# Check the best estimator\n",
        "rscv_dt.best_estimator_"
      ],
      "execution_count": null,
      "outputs": [
        {
          "output_type": "execute_result",
          "data": {
            "text/plain": [
              "DecisionTreeRegressor(ccp_alpha=0.0, criterion='friedman_mse', max_depth=54,\n",
              "                      max_features=None, max_leaf_nodes=None,\n",
              "                      min_impurity_decrease=0.0, min_impurity_split=None,\n",
              "                      min_samples_leaf=1, min_samples_split=19,\n",
              "                      min_weight_fraction_leaf=0.02040816326530612,\n",
              "                      presort='deprecated', random_state=None,\n",
              "                      splitter='random')"
            ]
          },
          "metadata": {
            "tags": []
          },
          "execution_count": 48
        }
      ]
    },
    {
      "cell_type": "code",
      "metadata": {
        "id": "rzVrWtb6lHBh"
      },
      "source": [
        "# Make Predictions\n",
        "dt_pred = rscv_dt.predict(X_test)\n",
        "\n",
        "# Compute metrics\n",
        "dt_metrics = compute_metrics(y_test, dt_pred)"
      ],
      "execution_count": null,
      "outputs": []
    },
    {
      "cell_type": "code",
      "metadata": {
        "colab": {
          "base_uri": "https://localhost:8080/",
          "height": 80
        },
        "id": "Hmy4GgwnlHC5",
        "outputId": "b5b85d0b-ef21-4031-a538-3c48452ccd72"
      },
      "source": [
        "dt_metrics"
      ],
      "execution_count": null,
      "outputs": [
        {
          "output_type": "execute_result",
          "data": {
            "text/html": [
              "<div>\n",
              "<style scoped>\n",
              "    .dataframe tbody tr th:only-of-type {\n",
              "        vertical-align: middle;\n",
              "    }\n",
              "\n",
              "    .dataframe tbody tr th {\n",
              "        vertical-align: top;\n",
              "    }\n",
              "\n",
              "    .dataframe thead th {\n",
              "        text-align: right;\n",
              "    }\n",
              "</style>\n",
              "<table border=\"1\" class=\"dataframe\">\n",
              "  <thead>\n",
              "    <tr style=\"text-align: right;\">\n",
              "      <th></th>\n",
              "      <th>MAE</th>\n",
              "      <th>MSE</th>\n",
              "      <th>RMSE</th>\n",
              "      <th>MSLE</th>\n",
              "    </tr>\n",
              "  </thead>\n",
              "  <tbody>\n",
              "    <tr>\n",
              "      <th>0</th>\n",
              "      <td>18.52962</td>\n",
              "      <td>571.85171</td>\n",
              "      <td>23.913421</td>\n",
              "      <td>0.025407</td>\n",
              "    </tr>\n",
              "  </tbody>\n",
              "</table>\n",
              "</div>"
            ],
            "text/plain": [
              "        MAE        MSE       RMSE      MSLE\n",
              "0  18.52962  571.85171  23.913421  0.025407"
            ]
          },
          "metadata": {
            "tags": []
          },
          "execution_count": 50
        }
      ]
    },
    {
      "cell_type": "code",
      "metadata": {
        "colab": {
          "base_uri": "https://localhost:8080/"
        },
        "id": "QYRA8m6ql03h",
        "outputId": "0b91a919-6549-4037-b820-72eb05767add"
      },
      "source": [
        "# 4. Random Forest\n",
        "from sklearn.ensemble import RandomForestRegressor\n",
        "\n",
        "# Model Object\n",
        "rf_reg = RandomForestRegressor()\n",
        "\n",
        "# Hyperparamters\n",
        "# Number of trees in random forest\n",
        "n_estimators = [int(x) for x in np.linspace(start = 200, stop = 2000, num = 10)]\n",
        "# Number of features to consider at every split\n",
        "max_features = ['auto', 'sqrt']\n",
        "# Maximum number of levels in tree\n",
        "max_depth = [int(x) for x in np.linspace(10, 110, num = 11)]\n",
        "max_depth.append(None)\n",
        "# Minimum number of samples required to split a node\n",
        "min_samples_split = [2, 5, 10]\n",
        "# Minimum number of samples required at each leaf node\n",
        "min_samples_leaf = [1, 2, 4]\n",
        "# Method of selecting samples for training each tree\n",
        "bootstrap = [True, False]\n",
        "# Create the random grid\n",
        "params = {'n_estimators': n_estimators,\n",
        "               'max_features': max_features,\n",
        "               'max_depth': max_depth,\n",
        "               'min_samples_split': min_samples_split,\n",
        "               'min_samples_leaf': min_samples_leaf,\n",
        "               'bootstrap': bootstrap}\n",
        "\n",
        "# RandomizedSearchCv\n",
        "rscv_rf = RandomizedSearchCV(rf_reg, params, n_iter=5, cv=5, verbose=1, random_state=42)\n",
        "\n",
        "# Fit the model\n",
        "rscv_rf.fit(X_train, y_train)"
      ],
      "execution_count": null,
      "outputs": [
        {
          "output_type": "stream",
          "text": [
            "Fitting 5 folds for each of 5 candidates, totalling 25 fits\n"
          ],
          "name": "stdout"
        },
        {
          "output_type": "stream",
          "text": [
            "[Parallel(n_jobs=1)]: Using backend SequentialBackend with 1 concurrent workers.\n",
            "[Parallel(n_jobs=1)]: Done  25 out of  25 | elapsed: 41.9min finished\n"
          ],
          "name": "stderr"
        },
        {
          "output_type": "execute_result",
          "data": {
            "text/plain": [
              "RandomizedSearchCV(cv=5, error_score=nan,\n",
              "                   estimator=RandomForestRegressor(bootstrap=True,\n",
              "                                                   ccp_alpha=0.0,\n",
              "                                                   criterion='mse',\n",
              "                                                   max_depth=None,\n",
              "                                                   max_features='auto',\n",
              "                                                   max_leaf_nodes=None,\n",
              "                                                   max_samples=None,\n",
              "                                                   min_impurity_decrease=0.0,\n",
              "                                                   min_impurity_split=None,\n",
              "                                                   min_samples_leaf=1,\n",
              "                                                   min_samples_split=2,\n",
              "                                                   min_weight_fraction_leaf=0.0,\n",
              "                                                   n_estimators=100,\n",
              "                                                   n_jobs=None, oob_score=Fals...\n",
              "                   param_distributions={'bootstrap': [True, False],\n",
              "                                        'max_depth': [10, 20, 30, 40, 50, 60,\n",
              "                                                      70, 80, 90, 100, 110,\n",
              "                                                      None],\n",
              "                                        'max_features': ['auto', 'sqrt'],\n",
              "                                        'min_samples_leaf': [1, 2, 4],\n",
              "                                        'min_samples_split': [2, 5, 10],\n",
              "                                        'n_estimators': [200, 400, 600, 800,\n",
              "                                                         1000, 1200, 1400, 1600,\n",
              "                                                         1800, 2000]},\n",
              "                   pre_dispatch='2*n_jobs', random_state=42, refit=True,\n",
              "                   return_train_score=False, scoring=None, verbose=1)"
            ]
          },
          "metadata": {
            "tags": []
          },
          "execution_count": 51
        }
      ]
    },
    {
      "cell_type": "code",
      "metadata": {
        "colab": {
          "base_uri": "https://localhost:8080/"
        },
        "id": "jpaueWfvl1vS",
        "outputId": "f566c9b7-3fbc-4bfb-c2bf-9a9bac958b30"
      },
      "source": [
        "# Best Estimator\n",
        "rscv_rf.best_estimator_"
      ],
      "execution_count": null,
      "outputs": [
        {
          "output_type": "execute_result",
          "data": {
            "text/plain": [
              "RandomForestRegressor(bootstrap=True, ccp_alpha=0.0, criterion='mse',\n",
              "                      max_depth=50, max_features='sqrt', max_leaf_nodes=None,\n",
              "                      max_samples=None, min_impurity_decrease=0.0,\n",
              "                      min_impurity_split=None, min_samples_leaf=2,\n",
              "                      min_samples_split=10, min_weight_fraction_leaf=0.0,\n",
              "                      n_estimators=200, n_jobs=None, oob_score=False,\n",
              "                      random_state=None, verbose=0, warm_start=False)"
            ]
          },
          "metadata": {
            "tags": []
          },
          "execution_count": 52
        }
      ]
    },
    {
      "cell_type": "code",
      "metadata": {
        "id": "Lu0qS1j_l4fG"
      },
      "source": [
        "# Make predictions and compute metrics\n",
        "rf_pred = rscv_rf.predict(X_test)\n",
        "\n",
        "# Compute metric df\n",
        "rf_metrics = compute_metrics(y_test, rf_pred)"
      ],
      "execution_count": null,
      "outputs": []
    },
    {
      "cell_type": "code",
      "metadata": {
        "colab": {
          "base_uri": "https://localhost:8080/",
          "height": 80
        },
        "id": "irULuMxPl466",
        "outputId": "9994b302-3108-4313-e4e8-91446da8f801"
      },
      "source": [
        "rf_metrics"
      ],
      "execution_count": null,
      "outputs": [
        {
          "output_type": "execute_result",
          "data": {
            "text/html": [
              "<div>\n",
              "<style scoped>\n",
              "    .dataframe tbody tr th:only-of-type {\n",
              "        vertical-align: middle;\n",
              "    }\n",
              "\n",
              "    .dataframe tbody tr th {\n",
              "        vertical-align: top;\n",
              "    }\n",
              "\n",
              "    .dataframe thead th {\n",
              "        text-align: right;\n",
              "    }\n",
              "</style>\n",
              "<table border=\"1\" class=\"dataframe\">\n",
              "  <thead>\n",
              "    <tr style=\"text-align: right;\">\n",
              "      <th></th>\n",
              "      <th>MAE</th>\n",
              "      <th>MSE</th>\n",
              "      <th>RMSE</th>\n",
              "      <th>MSLE</th>\n",
              "    </tr>\n",
              "  </thead>\n",
              "  <tbody>\n",
              "    <tr>\n",
              "      <th>0</th>\n",
              "      <td>17.863669</td>\n",
              "      <td>522.190522</td>\n",
              "      <td>22.851488</td>\n",
              "      <td>0.02249</td>\n",
              "    </tr>\n",
              "  </tbody>\n",
              "</table>\n",
              "</div>"
            ],
            "text/plain": [
              "         MAE         MSE       RMSE     MSLE\n",
              "0  17.863669  522.190522  22.851488  0.02249"
            ]
          },
          "metadata": {
            "tags": []
          },
          "execution_count": 54
        }
      ]
    },
    {
      "cell_type": "code",
      "metadata": {
        "colab": {
          "base_uri": "https://localhost:8080/"
        },
        "id": "rQ7ZBvmcl49G",
        "outputId": "0493eff4-dab0-4a2b-8ef2-96dc49c4333d"
      },
      "source": [
        "# 5. XG Boost\n",
        "from xgboost import XGBRegressor\n",
        "\n",
        "# Model object\n",
        "xgb_reg = XGBRegressor()\n",
        "\n",
        "# Fit the model\n",
        "xgb_reg.fit(X_train, y_train)"
      ],
      "execution_count": null,
      "outputs": [
        {
          "output_type": "stream",
          "text": [
            "[09:05:35] WARNING: /workspace/src/objective/regression_obj.cu:152: reg:linear is now deprecated in favor of reg:squarederror.\n"
          ],
          "name": "stdout"
        },
        {
          "output_type": "execute_result",
          "data": {
            "text/plain": [
              "XGBRegressor(base_score=0.5, booster='gbtree', colsample_bylevel=1,\n",
              "             colsample_bynode=1, colsample_bytree=1, gamma=0,\n",
              "             importance_type='gain', learning_rate=0.1, max_delta_step=0,\n",
              "             max_depth=3, min_child_weight=1, missing=None, n_estimators=100,\n",
              "             n_jobs=1, nthread=None, objective='reg:linear', random_state=0,\n",
              "             reg_alpha=0, reg_lambda=1, scale_pos_weight=1, seed=None,\n",
              "             silent=None, subsample=1, verbosity=1)"
            ]
          },
          "metadata": {
            "tags": []
          },
          "execution_count": 55
        }
      ]
    },
    {
      "cell_type": "code",
      "metadata": {
        "id": "vuyrhLJ-l4_M"
      },
      "source": [
        "# make predictions\n",
        "xgb_pred = xgb_reg.predict(X_test)\n",
        "\n",
        "# Compute metrics\n",
        "xgb_metric = compute_metrics(y_test, xgb_pred)"
      ],
      "execution_count": null,
      "outputs": []
    },
    {
      "cell_type": "code",
      "metadata": {
        "colab": {
          "base_uri": "https://localhost:8080/"
        },
        "id": "40St2edwl5td",
        "outputId": "3e54a109-d525-44fe-92ed-fbb0c0d68e71"
      },
      "source": [
        "np.round(xgb_pred)"
      ],
      "execution_count": null,
      "outputs": [
        {
          "output_type": "execute_result",
          "data": {
            "text/plain": [
              "array([156., 156., 156., ..., 118., 114., 114.], dtype=float32)"
            ]
          },
          "metadata": {
            "tags": []
          },
          "execution_count": 58
        }
      ]
    },
    {
      "cell_type": "code",
      "metadata": {
        "colab": {
          "base_uri": "https://localhost:8080/",
          "height": 80
        },
        "id": "IAMcjqzll5vo",
        "outputId": "03b8b5cf-3283-4c6c-934b-9c006fab1a90"
      },
      "source": [
        "xgb_metric"
      ],
      "execution_count": null,
      "outputs": [
        {
          "output_type": "execute_result",
          "data": {
            "text/html": [
              "<div>\n",
              "<style scoped>\n",
              "    .dataframe tbody tr th:only-of-type {\n",
              "        vertical-align: middle;\n",
              "    }\n",
              "\n",
              "    .dataframe tbody tr th {\n",
              "        vertical-align: top;\n",
              "    }\n",
              "\n",
              "    .dataframe thead th {\n",
              "        text-align: right;\n",
              "    }\n",
              "</style>\n",
              "<table border=\"1\" class=\"dataframe\">\n",
              "  <thead>\n",
              "    <tr style=\"text-align: right;\">\n",
              "      <th></th>\n",
              "      <th>MAE</th>\n",
              "      <th>MSE</th>\n",
              "      <th>RMSE</th>\n",
              "      <th>MSLE</th>\n",
              "    </tr>\n",
              "  </thead>\n",
              "  <tbody>\n",
              "    <tr>\n",
              "      <th>0</th>\n",
              "      <td>16.601897</td>\n",
              "      <td>467.50313</td>\n",
              "      <td>21.621821</td>\n",
              "      <td>0.0202</td>\n",
              "    </tr>\n",
              "  </tbody>\n",
              "</table>\n",
              "</div>"
            ],
            "text/plain": [
              "         MAE        MSE       RMSE    MSLE\n",
              "0  16.601897  467.50313  21.621821  0.0202"
            ]
          },
          "metadata": {
            "tags": []
          },
          "execution_count": 59
        }
      ]
    },
    {
      "cell_type": "code",
      "metadata": {
        "id": "LBuuiKuDmS7q"
      },
      "source": [
        "# Create a list of all the model metric dfs\n",
        "metrics_df = pd.concat([knn_metrics, lr_metrics, dt_metrics, rf_metrics, xgb_metric])\n",
        "metrics_df['Models'] = ['KNN', 'LR', 'DT', 'RF', 'XGB']\n",
        "metrics_df.set_index('Models', inplace=True)"
      ],
      "execution_count": null,
      "outputs": []
    },
    {
      "cell_type": "code",
      "metadata": {
        "id": "jjnoX9NZmS-B"
      },
      "source": [
        "transposed_metric_df = metrics_df.transpose() # Transpose the dataframe"
      ],
      "execution_count": null,
      "outputs": []
    },
    {
      "cell_type": "code",
      "metadata": {
        "colab": {
          "base_uri": "https://localhost:8080/",
          "height": 172
        },
        "id": "kF4tgFfOmS__",
        "outputId": "25e76674-d69a-4f22-ad72-32f6f7c99a38"
      },
      "source": [
        "transposed_metric_df"
      ],
      "execution_count": null,
      "outputs": [
        {
          "output_type": "execute_result",
          "data": {
            "text/html": [
              "<div>\n",
              "<style scoped>\n",
              "    .dataframe tbody tr th:only-of-type {\n",
              "        vertical-align: middle;\n",
              "    }\n",
              "\n",
              "    .dataframe tbody tr th {\n",
              "        vertical-align: top;\n",
              "    }\n",
              "\n",
              "    .dataframe thead th {\n",
              "        text-align: right;\n",
              "    }\n",
              "</style>\n",
              "<table border=\"1\" class=\"dataframe\">\n",
              "  <thead>\n",
              "    <tr style=\"text-align: right;\">\n",
              "      <th>Models</th>\n",
              "      <th>KNN</th>\n",
              "      <th>LR</th>\n",
              "      <th>DT</th>\n",
              "      <th>RF</th>\n",
              "      <th>XGB</th>\n",
              "    </tr>\n",
              "  </thead>\n",
              "  <tbody>\n",
              "    <tr>\n",
              "      <th>MAE</th>\n",
              "      <td>23.829754</td>\n",
              "      <td>2.847098e+13</td>\n",
              "      <td>18.529620</td>\n",
              "      <td>17.863669</td>\n",
              "      <td>16.601897</td>\n",
              "    </tr>\n",
              "    <tr>\n",
              "      <th>MSE</th>\n",
              "      <td>888.199801</td>\n",
              "      <td>1.288757e+27</td>\n",
              "      <td>571.851710</td>\n",
              "      <td>522.190522</td>\n",
              "      <td>467.503130</td>\n",
              "    </tr>\n",
              "    <tr>\n",
              "      <th>RMSE</th>\n",
              "      <td>29.802681</td>\n",
              "      <td>3.589926e+13</td>\n",
              "      <td>23.913421</td>\n",
              "      <td>22.851488</td>\n",
              "      <td>21.621821</td>\n",
              "    </tr>\n",
              "    <tr>\n",
              "      <th>MSLE</th>\n",
              "      <td>0.036395</td>\n",
              "      <td>0.000000e+00</td>\n",
              "      <td>0.025407</td>\n",
              "      <td>0.022490</td>\n",
              "      <td>0.020200</td>\n",
              "    </tr>\n",
              "  </tbody>\n",
              "</table>\n",
              "</div>"
            ],
            "text/plain": [
              "Models         KNN            LR          DT          RF         XGB\n",
              "MAE      23.829754  2.847098e+13   18.529620   17.863669   16.601897\n",
              "MSE     888.199801  1.288757e+27  571.851710  522.190522  467.503130\n",
              "RMSE     29.802681  3.589926e+13   23.913421   22.851488   21.621821\n",
              "MSLE      0.036395  0.000000e+00    0.025407    0.022490    0.020200"
            ]
          },
          "metadata": {
            "tags": []
          },
          "execution_count": 62
        }
      ]
    },
    {
      "cell_type": "code",
      "metadata": {
        "colab": {
          "base_uri": "https://localhost:8080/",
          "height": 162
        },
        "id": "_UAdWrdkmTDD",
        "outputId": "9de4d4b7-8684-4539-8fdd-7593761d34ce"
      },
      "source": [
        "metrics_df.style.format('{:.2f}') #Format the dataframe"
      ],
      "execution_count": null,
      "outputs": [
        {
          "output_type": "execute_result",
          "data": {
            "text/html": [
              "<style  type=\"text/css\" >\n",
              "</style><table id=\"T_9369f946_f1de_11eb_8f10_0242ac1c0002\" ><thead>    <tr>        <th class=\"blank level0\" ></th>        <th class=\"col_heading level0 col0\" >MAE</th>        <th class=\"col_heading level0 col1\" >MSE</th>        <th class=\"col_heading level0 col2\" >RMSE</th>        <th class=\"col_heading level0 col3\" >MSLE</th>    </tr>    <tr>        <th class=\"index_name level0\" >Models</th>        <th class=\"blank\" ></th>        <th class=\"blank\" ></th>        <th class=\"blank\" ></th>        <th class=\"blank\" ></th>    </tr></thead><tbody>\n",
              "                <tr>\n",
              "                        <th id=\"T_9369f946_f1de_11eb_8f10_0242ac1c0002level0_row0\" class=\"row_heading level0 row0\" >KNN</th>\n",
              "                        <td id=\"T_9369f946_f1de_11eb_8f10_0242ac1c0002row0_col0\" class=\"data row0 col0\" >23.83</td>\n",
              "                        <td id=\"T_9369f946_f1de_11eb_8f10_0242ac1c0002row0_col1\" class=\"data row0 col1\" >888.20</td>\n",
              "                        <td id=\"T_9369f946_f1de_11eb_8f10_0242ac1c0002row0_col2\" class=\"data row0 col2\" >29.80</td>\n",
              "                        <td id=\"T_9369f946_f1de_11eb_8f10_0242ac1c0002row0_col3\" class=\"data row0 col3\" >0.04</td>\n",
              "            </tr>\n",
              "            <tr>\n",
              "                        <th id=\"T_9369f946_f1de_11eb_8f10_0242ac1c0002level0_row1\" class=\"row_heading level0 row1\" >LR</th>\n",
              "                        <td id=\"T_9369f946_f1de_11eb_8f10_0242ac1c0002row1_col0\" class=\"data row1 col0\" >28470977654195.66</td>\n",
              "                        <td id=\"T_9369f946_f1de_11eb_8f10_0242ac1c0002row1_col1\" class=\"data row1 col1\" >1288757100523368519540146176.00</td>\n",
              "                        <td id=\"T_9369f946_f1de_11eb_8f10_0242ac1c0002row1_col2\" class=\"data row1 col2\" >35899263230926.74</td>\n",
              "                        <td id=\"T_9369f946_f1de_11eb_8f10_0242ac1c0002row1_col3\" class=\"data row1 col3\" >0.00</td>\n",
              "            </tr>\n",
              "            <tr>\n",
              "                        <th id=\"T_9369f946_f1de_11eb_8f10_0242ac1c0002level0_row2\" class=\"row_heading level0 row2\" >DT</th>\n",
              "                        <td id=\"T_9369f946_f1de_11eb_8f10_0242ac1c0002row2_col0\" class=\"data row2 col0\" >18.53</td>\n",
              "                        <td id=\"T_9369f946_f1de_11eb_8f10_0242ac1c0002row2_col1\" class=\"data row2 col1\" >571.85</td>\n",
              "                        <td id=\"T_9369f946_f1de_11eb_8f10_0242ac1c0002row2_col2\" class=\"data row2 col2\" >23.91</td>\n",
              "                        <td id=\"T_9369f946_f1de_11eb_8f10_0242ac1c0002row2_col3\" class=\"data row2 col3\" >0.03</td>\n",
              "            </tr>\n",
              "            <tr>\n",
              "                        <th id=\"T_9369f946_f1de_11eb_8f10_0242ac1c0002level0_row3\" class=\"row_heading level0 row3\" >RF</th>\n",
              "                        <td id=\"T_9369f946_f1de_11eb_8f10_0242ac1c0002row3_col0\" class=\"data row3 col0\" >17.86</td>\n",
              "                        <td id=\"T_9369f946_f1de_11eb_8f10_0242ac1c0002row3_col1\" class=\"data row3 col1\" >522.19</td>\n",
              "                        <td id=\"T_9369f946_f1de_11eb_8f10_0242ac1c0002row3_col2\" class=\"data row3 col2\" >22.85</td>\n",
              "                        <td id=\"T_9369f946_f1de_11eb_8f10_0242ac1c0002row3_col3\" class=\"data row3 col3\" >0.02</td>\n",
              "            </tr>\n",
              "            <tr>\n",
              "                        <th id=\"T_9369f946_f1de_11eb_8f10_0242ac1c0002level0_row4\" class=\"row_heading level0 row4\" >XGB</th>\n",
              "                        <td id=\"T_9369f946_f1de_11eb_8f10_0242ac1c0002row4_col0\" class=\"data row4 col0\" >16.60</td>\n",
              "                        <td id=\"T_9369f946_f1de_11eb_8f10_0242ac1c0002row4_col1\" class=\"data row4 col1\" >467.50</td>\n",
              "                        <td id=\"T_9369f946_f1de_11eb_8f10_0242ac1c0002row4_col2\" class=\"data row4 col2\" >21.62</td>\n",
              "                        <td id=\"T_9369f946_f1de_11eb_8f10_0242ac1c0002row4_col3\" class=\"data row4 col3\" >0.02</td>\n",
              "            </tr>\n",
              "    </tbody></table>"
            ],
            "text/plain": [
              "<pandas.io.formats.style.Styler at 0x7f8158bfb3d0>"
            ]
          },
          "metadata": {
            "tags": []
          },
          "execution_count": 63
        }
      ]
    },
    {
      "cell_type": "code",
      "metadata": {
        "id": "5RITxwzUmTFF"
      },
      "source": [
        "metrics_df_ = metrics_df.drop('LR',axis=0)"
      ],
      "execution_count": null,
      "outputs": []
    },
    {
      "cell_type": "code",
      "metadata": {
        "colab": {
          "base_uri": "https://localhost:8080/",
          "height": 542
        },
        "id": "03M0TqWyEAlP",
        "outputId": "35fa24ad-0cdb-4ca1-fc5f-e4df80780e68"
      },
      "source": [
        "# Plot the results on a grouped bar graph using plotly\n",
        "from plotly import graph_objects as go\n",
        "\n",
        "# Initialise the figure\n",
        "fig = go.Figure(\n",
        "            data=[\n",
        "                  # 1. Plotting MAE\n",
        "                  go.Bar(\n",
        "                        name = 'MAE',\n",
        "                        x=metrics_df_.index,\n",
        "                        y=metrics_df_['MAE'],\n",
        "                        offsetgroup=0\n",
        "                  ),\n",
        "                  # 2. Plotting MSE\n",
        "                  go.Bar(\n",
        "                        name = 'MSE',\n",
        "                        x=metrics_df_.index,\n",
        "                        y=metrics_df_['MSE'],\n",
        "                        offsetgroup=1\n",
        "                  ),\n",
        "                  # 3. Plotting RMSE\n",
        "                  go.Bar(\n",
        "                        name = 'RMSE',\n",
        "                        x=metrics_df_.index,\n",
        "                        y=metrics_df_['RMSE'],\n",
        "                        offsetgroup=2\n",
        "                  ),\n",
        "                  # 4. Plotting MSLE\n",
        "                  go.Bar(\n",
        "                        name = 'MSLE',\n",
        "                        x=metrics_df_.index,\n",
        "                        y=metrics_df_['MSLE'],\n",
        "                        offsetgroup=3\n",
        "                  )\n",
        "            ],\n",
        "            # Updating the layout\n",
        "            layout=go.Layout(\n",
        "                title='Metric Comparison of Various Models'\n",
        "            )\n",
        ")\n",
        "fig.show()"
      ],
      "execution_count": null,
      "outputs": [
        {
          "output_type": "display_data",
          "data": {
            "text/html": [
              "<html>\n",
              "<head><meta charset=\"utf-8\" /></head>\n",
              "<body>\n",
              "    <div>\n",
              "            <script src=\"https://cdnjs.cloudflare.com/ajax/libs/mathjax/2.7.5/MathJax.js?config=TeX-AMS-MML_SVG\"></script><script type=\"text/javascript\">if (window.MathJax) {MathJax.Hub.Config({SVG: {font: \"STIX-Web\"}});}</script>\n",
              "                <script type=\"text/javascript\">window.PlotlyConfig = {MathJaxConfig: 'local'};</script>\n",
              "        <script src=\"https://cdn.plot.ly/plotly-latest.min.js\"></script>    \n",
              "            <div id=\"5aebbe80-41fe-4036-a406-4861962a6eb4\" class=\"plotly-graph-div\" style=\"height:525px; width:100%;\"></div>\n",
              "            <script type=\"text/javascript\">\n",
              "                \n",
              "                    window.PLOTLYENV=window.PLOTLYENV || {};\n",
              "                    \n",
              "                if (document.getElementById(\"5aebbe80-41fe-4036-a406-4861962a6eb4\")) {\n",
              "                    Plotly.newPlot(\n",
              "                        '5aebbe80-41fe-4036-a406-4861962a6eb4',\n",
              "                        [{\"name\": \"MAE\", \"offsetgroup\": \"0\", \"type\": \"bar\", \"x\": [\"KNN\", \"DT\", \"RF\", \"XGB\"], \"y\": [23.82975354113013, 18.52961961639235, 17.8636691778451, 16.601897195187]}, {\"name\": \"MSE\", \"offsetgroup\": \"1\", \"type\": \"bar\", \"x\": [\"KNN\", \"DT\", \"RF\", \"XGB\"], \"y\": [888.1998006677154, 571.8517104080331, 522.1905218152995, 467.5031296931813]}, {\"name\": \"RMSE\", \"offsetgroup\": \"2\", \"type\": \"bar\", \"x\": [\"KNN\", \"DT\", \"RF\", \"XGB\"], \"y\": [29.80268109864808, 23.913421135588965, 22.851488393872717, 21.62182068404928]}, {\"name\": \"MSLE\", \"offsetgroup\": \"3\", \"type\": \"bar\", \"x\": [\"KNN\", \"DT\", \"RF\", \"XGB\"], \"y\": [0.03639469369332697, 0.025407033574627667, 0.022489731410780443, 0.02019993576324012]}],\n",
              "                        {\"template\": {\"data\": {\"bar\": [{\"error_x\": {\"color\": \"#2a3f5f\"}, \"error_y\": {\"color\": \"#2a3f5f\"}, \"marker\": {\"line\": {\"color\": \"#E5ECF6\", \"width\": 0.5}}, \"type\": \"bar\"}], \"barpolar\": [{\"marker\": {\"line\": {\"color\": \"#E5ECF6\", \"width\": 0.5}}, \"type\": \"barpolar\"}], \"carpet\": [{\"aaxis\": {\"endlinecolor\": \"#2a3f5f\", \"gridcolor\": \"white\", \"linecolor\": \"white\", \"minorgridcolor\": \"white\", \"startlinecolor\": \"#2a3f5f\"}, \"baxis\": {\"endlinecolor\": \"#2a3f5f\", \"gridcolor\": \"white\", \"linecolor\": \"white\", \"minorgridcolor\": \"white\", \"startlinecolor\": \"#2a3f5f\"}, \"type\": \"carpet\"}], \"choropleth\": [{\"colorbar\": {\"outlinewidth\": 0, \"ticks\": \"\"}, \"type\": \"choropleth\"}], \"contour\": [{\"colorbar\": {\"outlinewidth\": 0, \"ticks\": \"\"}, \"colorscale\": [[0.0, \"#0d0887\"], [0.1111111111111111, \"#46039f\"], [0.2222222222222222, \"#7201a8\"], [0.3333333333333333, \"#9c179e\"], [0.4444444444444444, \"#bd3786\"], [0.5555555555555556, \"#d8576b\"], [0.6666666666666666, \"#ed7953\"], [0.7777777777777778, \"#fb9f3a\"], [0.8888888888888888, \"#fdca26\"], [1.0, \"#f0f921\"]], \"type\": \"contour\"}], \"contourcarpet\": [{\"colorbar\": {\"outlinewidth\": 0, \"ticks\": \"\"}, \"type\": \"contourcarpet\"}], \"heatmap\": [{\"colorbar\": {\"outlinewidth\": 0, \"ticks\": \"\"}, \"colorscale\": [[0.0, \"#0d0887\"], [0.1111111111111111, \"#46039f\"], [0.2222222222222222, \"#7201a8\"], [0.3333333333333333, \"#9c179e\"], [0.4444444444444444, \"#bd3786\"], [0.5555555555555556, \"#d8576b\"], [0.6666666666666666, \"#ed7953\"], [0.7777777777777778, \"#fb9f3a\"], [0.8888888888888888, \"#fdca26\"], [1.0, \"#f0f921\"]], \"type\": \"heatmap\"}], \"heatmapgl\": [{\"colorbar\": {\"outlinewidth\": 0, \"ticks\": \"\"}, \"colorscale\": [[0.0, \"#0d0887\"], [0.1111111111111111, \"#46039f\"], [0.2222222222222222, \"#7201a8\"], [0.3333333333333333, \"#9c179e\"], [0.4444444444444444, \"#bd3786\"], [0.5555555555555556, \"#d8576b\"], [0.6666666666666666, \"#ed7953\"], [0.7777777777777778, \"#fb9f3a\"], [0.8888888888888888, \"#fdca26\"], [1.0, \"#f0f921\"]], \"type\": \"heatmapgl\"}], \"histogram\": [{\"marker\": {\"colorbar\": {\"outlinewidth\": 0, \"ticks\": \"\"}}, \"type\": \"histogram\"}], \"histogram2d\": [{\"colorbar\": {\"outlinewidth\": 0, \"ticks\": \"\"}, \"colorscale\": [[0.0, \"#0d0887\"], [0.1111111111111111, \"#46039f\"], [0.2222222222222222, \"#7201a8\"], [0.3333333333333333, \"#9c179e\"], [0.4444444444444444, \"#bd3786\"], [0.5555555555555556, \"#d8576b\"], [0.6666666666666666, \"#ed7953\"], [0.7777777777777778, \"#fb9f3a\"], [0.8888888888888888, \"#fdca26\"], [1.0, \"#f0f921\"]], \"type\": \"histogram2d\"}], \"histogram2dcontour\": [{\"colorbar\": {\"outlinewidth\": 0, \"ticks\": \"\"}, \"colorscale\": [[0.0, \"#0d0887\"], [0.1111111111111111, \"#46039f\"], [0.2222222222222222, \"#7201a8\"], [0.3333333333333333, \"#9c179e\"], [0.4444444444444444, \"#bd3786\"], [0.5555555555555556, \"#d8576b\"], [0.6666666666666666, \"#ed7953\"], [0.7777777777777778, \"#fb9f3a\"], [0.8888888888888888, \"#fdca26\"], [1.0, \"#f0f921\"]], \"type\": \"histogram2dcontour\"}], \"mesh3d\": [{\"colorbar\": {\"outlinewidth\": 0, \"ticks\": \"\"}, \"type\": \"mesh3d\"}], \"parcoords\": [{\"line\": {\"colorbar\": {\"outlinewidth\": 0, \"ticks\": \"\"}}, \"type\": \"parcoords\"}], \"pie\": [{\"automargin\": true, \"type\": \"pie\"}], \"scatter\": [{\"marker\": {\"colorbar\": {\"outlinewidth\": 0, \"ticks\": \"\"}}, \"type\": \"scatter\"}], \"scatter3d\": [{\"line\": {\"colorbar\": {\"outlinewidth\": 0, \"ticks\": \"\"}}, \"marker\": {\"colorbar\": {\"outlinewidth\": 0, \"ticks\": \"\"}}, \"type\": \"scatter3d\"}], \"scattercarpet\": [{\"marker\": {\"colorbar\": {\"outlinewidth\": 0, \"ticks\": \"\"}}, \"type\": \"scattercarpet\"}], \"scattergeo\": [{\"marker\": {\"colorbar\": {\"outlinewidth\": 0, \"ticks\": \"\"}}, \"type\": \"scattergeo\"}], \"scattergl\": [{\"marker\": {\"colorbar\": {\"outlinewidth\": 0, \"ticks\": \"\"}}, \"type\": \"scattergl\"}], \"scattermapbox\": [{\"marker\": {\"colorbar\": {\"outlinewidth\": 0, \"ticks\": \"\"}}, \"type\": \"scattermapbox\"}], \"scatterpolar\": [{\"marker\": {\"colorbar\": {\"outlinewidth\": 0, \"ticks\": \"\"}}, \"type\": \"scatterpolar\"}], \"scatterpolargl\": [{\"marker\": {\"colorbar\": {\"outlinewidth\": 0, \"ticks\": \"\"}}, \"type\": \"scatterpolargl\"}], \"scatterternary\": [{\"marker\": {\"colorbar\": {\"outlinewidth\": 0, \"ticks\": \"\"}}, \"type\": \"scatterternary\"}], \"surface\": [{\"colorbar\": {\"outlinewidth\": 0, \"ticks\": \"\"}, \"colorscale\": [[0.0, \"#0d0887\"], [0.1111111111111111, \"#46039f\"], [0.2222222222222222, \"#7201a8\"], [0.3333333333333333, \"#9c179e\"], [0.4444444444444444, \"#bd3786\"], [0.5555555555555556, \"#d8576b\"], [0.6666666666666666, \"#ed7953\"], [0.7777777777777778, \"#fb9f3a\"], [0.8888888888888888, \"#fdca26\"], [1.0, \"#f0f921\"]], \"type\": \"surface\"}], \"table\": [{\"cells\": {\"fill\": {\"color\": \"#EBF0F8\"}, \"line\": {\"color\": \"white\"}}, \"header\": {\"fill\": {\"color\": \"#C8D4E3\"}, \"line\": {\"color\": \"white\"}}, \"type\": \"table\"}]}, \"layout\": {\"annotationdefaults\": {\"arrowcolor\": \"#2a3f5f\", \"arrowhead\": 0, \"arrowwidth\": 1}, \"coloraxis\": {\"colorbar\": {\"outlinewidth\": 0, \"ticks\": \"\"}}, \"colorscale\": {\"diverging\": [[0, \"#8e0152\"], [0.1, \"#c51b7d\"], [0.2, \"#de77ae\"], [0.3, \"#f1b6da\"], [0.4, \"#fde0ef\"], [0.5, \"#f7f7f7\"], [0.6, \"#e6f5d0\"], [0.7, \"#b8e186\"], [0.8, \"#7fbc41\"], [0.9, \"#4d9221\"], [1, \"#276419\"]], \"sequential\": [[0.0, \"#0d0887\"], [0.1111111111111111, \"#46039f\"], [0.2222222222222222, \"#7201a8\"], [0.3333333333333333, \"#9c179e\"], [0.4444444444444444, \"#bd3786\"], [0.5555555555555556, \"#d8576b\"], [0.6666666666666666, \"#ed7953\"], [0.7777777777777778, \"#fb9f3a\"], [0.8888888888888888, \"#fdca26\"], [1.0, \"#f0f921\"]], \"sequentialminus\": [[0.0, \"#0d0887\"], [0.1111111111111111, \"#46039f\"], [0.2222222222222222, \"#7201a8\"], [0.3333333333333333, \"#9c179e\"], [0.4444444444444444, \"#bd3786\"], [0.5555555555555556, \"#d8576b\"], [0.6666666666666666, \"#ed7953\"], [0.7777777777777778, \"#fb9f3a\"], [0.8888888888888888, \"#fdca26\"], [1.0, \"#f0f921\"]]}, \"colorway\": [\"#636efa\", \"#EF553B\", \"#00cc96\", \"#ab63fa\", \"#FFA15A\", \"#19d3f3\", \"#FF6692\", \"#B6E880\", \"#FF97FF\", \"#FECB52\"], \"font\": {\"color\": \"#2a3f5f\"}, \"geo\": {\"bgcolor\": \"white\", \"lakecolor\": \"white\", \"landcolor\": \"#E5ECF6\", \"showlakes\": true, \"showland\": true, \"subunitcolor\": \"white\"}, \"hoverlabel\": {\"align\": \"left\"}, \"hovermode\": \"closest\", \"mapbox\": {\"style\": \"light\"}, \"paper_bgcolor\": \"white\", \"plot_bgcolor\": \"#E5ECF6\", \"polar\": {\"angularaxis\": {\"gridcolor\": \"white\", \"linecolor\": \"white\", \"ticks\": \"\"}, \"bgcolor\": \"#E5ECF6\", \"radialaxis\": {\"gridcolor\": \"white\", \"linecolor\": \"white\", \"ticks\": \"\"}}, \"scene\": {\"xaxis\": {\"backgroundcolor\": \"#E5ECF6\", \"gridcolor\": \"white\", \"gridwidth\": 2, \"linecolor\": \"white\", \"showbackground\": true, \"ticks\": \"\", \"zerolinecolor\": \"white\"}, \"yaxis\": {\"backgroundcolor\": \"#E5ECF6\", \"gridcolor\": \"white\", \"gridwidth\": 2, \"linecolor\": \"white\", \"showbackground\": true, \"ticks\": \"\", \"zerolinecolor\": \"white\"}, \"zaxis\": {\"backgroundcolor\": \"#E5ECF6\", \"gridcolor\": \"white\", \"gridwidth\": 2, \"linecolor\": \"white\", \"showbackground\": true, \"ticks\": \"\", \"zerolinecolor\": \"white\"}}, \"shapedefaults\": {\"line\": {\"color\": \"#2a3f5f\"}}, \"ternary\": {\"aaxis\": {\"gridcolor\": \"white\", \"linecolor\": \"white\", \"ticks\": \"\"}, \"baxis\": {\"gridcolor\": \"white\", \"linecolor\": \"white\", \"ticks\": \"\"}, \"bgcolor\": \"#E5ECF6\", \"caxis\": {\"gridcolor\": \"white\", \"linecolor\": \"white\", \"ticks\": \"\"}}, \"title\": {\"x\": 0.05}, \"xaxis\": {\"automargin\": true, \"gridcolor\": \"white\", \"linecolor\": \"white\", \"ticks\": \"\", \"title\": {\"standoff\": 15}, \"zerolinecolor\": \"white\", \"zerolinewidth\": 2}, \"yaxis\": {\"automargin\": true, \"gridcolor\": \"white\", \"linecolor\": \"white\", \"ticks\": \"\", \"title\": {\"standoff\": 15}, \"zerolinecolor\": \"white\", \"zerolinewidth\": 2}}}, \"title\": {\"text\": \"Metric Comparison of Various Models\"}},\n",
              "                        {\"responsive\": true}\n",
              "                    ).then(function(){\n",
              "                            \n",
              "var gd = document.getElementById('5aebbe80-41fe-4036-a406-4861962a6eb4');\n",
              "var x = new MutationObserver(function (mutations, observer) {{\n",
              "        var display = window.getComputedStyle(gd).display;\n",
              "        if (!display || display === 'none') {{\n",
              "            console.log([gd, 'removed!']);\n",
              "            Plotly.purge(gd);\n",
              "            observer.disconnect();\n",
              "        }}\n",
              "}});\n",
              "\n",
              "// Listen for the removal of the full notebook cells\n",
              "var notebookContainer = gd.closest('#notebook-container');\n",
              "if (notebookContainer) {{\n",
              "    x.observe(notebookContainer, {childList: true});\n",
              "}}\n",
              "\n",
              "// Listen for the clearing of the current output cell\n",
              "var outputEl = gd.closest('.output');\n",
              "if (outputEl) {{\n",
              "    x.observe(outputEl, {childList: true});\n",
              "}}\n",
              "\n",
              "                        })\n",
              "                };\n",
              "                \n",
              "            </script>\n",
              "        </div>\n",
              "</body>\n",
              "</html>"
            ]
          },
          "metadata": {
            "tags": []
          }
        }
      ]
    },
    {
      "cell_type": "code",
      "metadata": {
        "id": "a2puYVm6mTGj"
      },
      "source": [
        ""
      ],
      "execution_count": null,
      "outputs": []
    }
  ]
}